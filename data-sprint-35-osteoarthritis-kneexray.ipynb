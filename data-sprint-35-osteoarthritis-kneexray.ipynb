{
 "cells": [
  {
   "cell_type": "markdown",
   "id": "million-monaco",
   "metadata": {
    "papermill": {
     "duration": 0.026241,
     "end_time": "2021-05-30T18:39:28.019714",
     "exception": false,
     "start_time": "2021-05-30T18:39:27.993473",
     "status": "completed"
    },
    "tags": []
   },
   "source": [
    "## Importing dependencies"
   ]
  },
  {
   "cell_type": "code",
   "execution_count": 1,
   "id": "floating-cincinnati",
   "metadata": {
    "execution": {
     "iopub.execute_input": "2021-05-30T18:39:28.086573Z",
     "iopub.status.busy": "2021-05-30T18:39:28.085923Z",
     "iopub.status.idle": "2021-05-30T18:39:32.847126Z",
     "shell.execute_reply": "2021-05-30T18:39:32.846068Z",
     "shell.execute_reply.started": "2021-05-30T09:28:36.967323Z"
    },
    "id": "RcTz0DX991Q6",
    "papermill": {
     "duration": 4.80129,
     "end_time": "2021-05-30T18:39:32.847355",
     "exception": false,
     "start_time": "2021-05-30T18:39:28.046065",
     "status": "completed"
    },
    "tags": []
   },
   "outputs": [],
   "source": [
    "%matplotlib inline\n",
    "import numpy as np \n",
    "import pandas as pd\n",
    "import os\n",
    "from glob import glob\n",
    "import matplotlib.pyplot as plt\n",
    "from keras_preprocessing.image import ImageDataGenerator\n",
    "from tensorflow.keras.applications import Xception\n",
    "from tensorflow.keras.layers import GlobalAveragePooling2D\n",
    "import tensorflow as tf\n",
    "from tensorflow.keras.callbacks import ModelCheckpoint, EarlyStopping, ReduceLROnPlateau\n",
    "from keras.models import Model"
   ]
  },
  {
   "cell_type": "markdown",
   "id": "rotary-prague",
   "metadata": {
    "papermill": {
     "duration": 0.025647,
     "end_time": "2021-05-30T18:39:32.952047",
     "exception": false,
     "start_time": "2021-05-30T18:39:32.926400",
     "status": "completed"
    },
    "tags": []
   },
   "source": [
    "# Read And Combining train dataset (kaggle dataset)"
   ]
  },
  {
   "cell_type": "code",
   "execution_count": 2,
   "id": "emotional-valuable",
   "metadata": {
    "execution": {
     "iopub.execute_input": "2021-05-30T18:39:33.012157Z",
     "iopub.status.busy": "2021-05-30T18:39:33.011596Z",
     "iopub.status.idle": "2021-05-30T18:39:35.556063Z",
     "shell.execute_reply": "2021-05-30T18:39:35.555555Z",
     "shell.execute_reply.started": "2021-05-30T09:28:38.947982Z"
    },
    "id": "urSEnaIU91Q-",
    "outputId": "ff1217bf-5ce7-4e9e-b7b9-acff10a56576",
    "papermill": {
     "duration": 2.57776,
     "end_time": "2021-05-30T18:39:35.556225",
     "exception": false,
     "start_time": "2021-05-30T18:39:32.978465",
     "status": "completed"
    },
    "tags": []
   },
   "outputs": [],
   "source": [
    "# number of class\n",
    "n_class = 5\n",
    "\n",
    "# path to kaggle dataset\n",
    "root_path = \"./Dataset/\"\n",
    "\n",
    "# list of folders\n",
    "folder_list = os.listdir(root_path)\n",
    "image_path_list = []\n",
    "label_list = []\n",
    "\n",
    "# for each folder, get the image path and labels\n",
    "for folder in folder_list:\n",
    "    for label in range(n_class):\n",
    "        \n",
    "        # get all the images path inside the current folder\n",
    "        image_list = os.listdir(f\"{root_path}{folder}/{label}\")\n",
    "        # add to the image path list\n",
    "        image_path_list += [ f\"{root_path}{folder}/{label}/\"+ path for path in image_list]\n",
    "        \n",
    "        # add labels to the label list\n",
    "        label_list += [label] * len(image_list)\n",
    "\n",
    "# convert to dataframe\n",
    "df_train_kaggle = pd.DataFrame({\"filepath\" : image_path_list, \"label\": label_list})"
   ]
  },
  {
   "cell_type": "code",
   "execution_count": 3,
   "id": "signal-responsibility",
   "metadata": {
    "execution": {
     "iopub.execute_input": "2021-05-30T18:39:35.618734Z",
     "iopub.status.busy": "2021-05-30T18:39:35.617931Z",
     "iopub.status.idle": "2021-05-30T18:39:35.621117Z",
     "shell.execute_reply": "2021-05-30T18:39:35.621576Z",
     "shell.execute_reply.started": "2021-05-30T09:28:40.244589Z"
    },
    "papermill": {
     "duration": 0.03629,
     "end_time": "2021-05-30T18:39:35.621716",
     "exception": false,
     "start_time": "2021-05-30T18:39:35.585426",
     "status": "completed"
    },
    "tags": []
   },
   "outputs": [
    {
     "data": {
      "text/plain": [
       "(9786, 2)"
      ]
     },
     "execution_count": 3,
     "metadata": {},
     "output_type": "execute_result"
    }
   ],
   "source": [
    "df_train_kaggle.shape"
   ]
  },
  {
   "cell_type": "markdown",
   "id": "hairy-greene",
   "metadata": {
    "papermill": {
     "duration": 0.030406,
     "end_time": "2021-05-30T18:39:35.680660",
     "exception": false,
     "start_time": "2021-05-30T18:39:35.650254",
     "status": "completed"
    },
    "tags": []
   },
   "source": [
    "### Observation\n",
    "we have total of 9786 images in kaggle dataset. We will use data to train the deep learning model\n",
    "# Lets look at class distribution"
   ]
  },
  {
   "cell_type": "code",
   "execution_count": 4,
   "id": "therapeutic-spending",
   "metadata": {
    "execution": {
     "iopub.execute_input": "2021-05-30T18:39:35.750000Z",
     "iopub.status.busy": "2021-05-30T18:39:35.749277Z",
     "iopub.status.idle": "2021-05-30T18:39:35.918362Z",
     "shell.execute_reply": "2021-05-30T18:39:35.918766Z",
     "shell.execute_reply.started": "2021-05-30T09:28:41.597346Z"
    },
    "papermill": {
     "duration": 0.208649,
     "end_time": "2021-05-30T18:39:35.918905",
     "exception": false,
     "start_time": "2021-05-30T18:39:35.710256",
     "status": "completed"
    },
    "tags": []
   },
   "outputs": [
    {
     "data": {
      "text/plain": [
       "Text(0, 0.5, 'count')"
      ]
     },
     "execution_count": 4,
     "metadata": {},
     "output_type": "execute_result"
    },
    {
     "data": {
      "image/png": "[encoded data removed]",
      "text/plain": [
       "<Figure size 432x288 with 1 Axes>"
      ]
     },
     "metadata": {
      "needs_background": "light"
     },
     "output_type": "display_data"
    }
   ],
   "source": [
    "df_train_kaggle.label.value_counts().plot.bar()\n",
    "plt.xlabel(\"label\")\n",
    "plt.ylabel(\"count\")"
   ]
  },
  {
   "cell_type": "markdown",
   "id": "cognitive-calendar",
   "metadata": {
    "papermill": {
     "duration": 0.027966,
     "end_time": "2021-05-30T18:39:35.973791",
     "exception": false,
     "start_time": "2021-05-30T18:39:35.945825",
     "status": "completed"
    },
    "tags": []
   },
   "source": [
    "### Observation\n",
    "As our dataset is imbalanced, we will balance our class by weighting majority class less and minoiry class more"
   ]
  },
  {
   "cell_type": "markdown",
   "id": "dense-enzyme",
   "metadata": {
    "id": "VIH9d58o_DLz",
    "papermill": {
     "duration": 0.028255,
     "end_time": "2021-05-30T18:39:36.030250",
     "exception": false,
     "start_time": "2021-05-30T18:39:36.001995",
     "status": "completed"
    },
    "tags": []
   },
   "source": [
    "## DataGenerator train and validation\n",
    "We will use kaggle dataset as train set and compitition dataset as validation set. If train and validation metric is similar, it shows their distribution is similar and hence we can use kaggle dataset as well."
   ]
  },
  {
   "cell_type": "code",
   "execution_count": 47,
   "id": "encouraging-novel",
   "metadata": {
    "execution": {
     "iopub.execute_input": "2021-05-30T18:39:36.090553Z",
     "iopub.status.busy": "2021-05-30T18:39:36.089729Z",
     "iopub.status.idle": "2021-05-30T18:39:36.092340Z",
     "shell.execute_reply": "2021-05-30T18:39:36.091828Z",
     "shell.execute_reply.started": "2021-05-30T09:28:44.189248Z"
    },
    "id": "VrchCvl291RC",
    "papermill": {
     "duration": 0.035021,
     "end_time": "2021-05-30T18:39:36.092447",
     "exception": false,
     "start_time": "2021-05-30T18:39:36.057426",
     "status": "completed"
    },
    "tags": []
   },
   "outputs": [],
   "source": [
    "# train data generator object\n",
    "train_aug = ImageDataGenerator(rescale=1./255)\n",
    "\n",
    "# validation data generator object\n",
    "valid_aug = ImageDataGenerator(rescale=1./255)"
   ]
  },
  {
   "cell_type": "code",
   "execution_count": 48,
   "id": "geological-philadelphia",
   "metadata": {
    "execution": {
     "iopub.execute_input": "2021-05-30T18:39:36.172890Z",
     "iopub.status.busy": "2021-05-30T18:39:36.167698Z",
     "iopub.status.idle": "2021-05-30T18:39:39.954054Z",
     "shell.execute_reply": "2021-05-30T18:39:39.954888Z",
     "shell.execute_reply.started": "2021-05-30T09:28:47.478488Z"
    },
    "id": "nU1xBx-G91RD",
    "outputId": "347a1e8b-0517-443e-f7b5-dc0ee58ae8d4",
    "papermill": {
     "duration": 3.835127,
     "end_time": "2021-05-30T18:39:39.955083",
     "exception": false,
     "start_time": "2021-05-30T18:39:36.119956",
     "status": "completed"
    },
    "tags": []
   },
   "outputs": [
    {
     "name": "stdout",
     "output_type": "stream",
     "text": [
      "Found 9786 validated image filenames.\n"
     ]
    }
   ],
   "source": [
    "# create train generator\n",
    "train_generator = train_aug.flow_from_dataframe(\n",
    "dataframe=df_train_kaggle,\n",
    "directory=None,\n",
    "x_col=\"filepath\",\n",
    "y_col=\"label\",\n",
    "batch_size=32,\n",
    "seed=42,\n",
    "shuffle=True,\n",
    "class_mode=\"raw\",\n",
    "target_size=(224,224))"
   ]
  },
  {
   "cell_type": "markdown",
   "id": "asian-chest",
   "metadata": {
    "papermill": {
     "duration": 0.027295,
     "end_time": "2021-05-30T18:39:40.011354",
     "exception": false,
     "start_time": "2021-05-30T18:39:39.984059",
     "status": "completed"
    },
    "tags": []
   },
   "source": [
    "# Create validation dataframe using compitition dataset.\n",
    "We will download compition dataset from gdrive and use it as validation set to validated against kaggle dataset"
   ]
  },
  {
   "cell_type": "code",
   "execution_count": 31,
   "id": "threaded-characterization",
   "metadata": {
    "execution": {
     "iopub.execute_input": "2021-05-30T18:40:02.229132Z",
     "iopub.status.busy": "2021-05-30T18:40:02.228400Z",
     "iopub.status.idle": "2021-05-30T18:40:02.250117Z",
     "shell.execute_reply": "2021-05-30T18:40:02.250642Z",
     "shell.execute_reply.started": "2021-05-30T08:33:23.833280Z"
    },
    "papermill": {
     "duration": 0.059732,
     "end_time": "2021-05-30T18:40:02.250775",
     "exception": false,
     "start_time": "2021-05-30T18:40:02.191043",
     "status": "completed"
    },
    "tags": []
   },
   "outputs": [
    {
     "data": {
      "text/html": [
       "<div>\n",
       "<style scoped>\n",
       "    .dataframe tbody tr th:only-of-type {\n",
       "        vertical-align: middle;\n",
       "    }\n",
       "\n",
       "    .dataframe tbody tr th {\n",
       "        vertical-align: top;\n",
       "    }\n",
       "\n",
       "    .dataframe thead th {\n",
       "        text-align: right;\n",
       "    }\n",
       "</style>\n",
       "<table border=\"1\" class=\"dataframe\">\n",
       "  <thead>\n",
       "    <tr style=\"text-align: right;\">\n",
       "      <th></th>\n",
       "      <th>filename</th>\n",
       "      <th>label</th>\n",
       "    </tr>\n",
       "  </thead>\n",
       "  <tbody>\n",
       "    <tr>\n",
       "      <th>0</th>\n",
       "      <td>./KneeXray/train/Image_1.jpg</td>\n",
       "      <td>0</td>\n",
       "    </tr>\n",
       "    <tr>\n",
       "      <th>1</th>\n",
       "      <td>./KneeXray/train/Image_2.jpg</td>\n",
       "      <td>1</td>\n",
       "    </tr>\n",
       "    <tr>\n",
       "      <th>2</th>\n",
       "      <td>./KneeXray/train/Image_3.jpg</td>\n",
       "      <td>0</td>\n",
       "    </tr>\n",
       "    <tr>\n",
       "      <th>3</th>\n",
       "      <td>./KneeXray/train/Image_4.jpg</td>\n",
       "      <td>1</td>\n",
       "    </tr>\n",
       "    <tr>\n",
       "      <th>4</th>\n",
       "      <td>./KneeXray/train/Image_5.jpg</td>\n",
       "      <td>2</td>\n",
       "    </tr>\n",
       "  </tbody>\n",
       "</table>\n",
       "</div>"
      ],
      "text/plain": [
       "                       filename  label\n",
       "0  ./KneeXray/train/Image_1.jpg      0\n",
       "1  ./KneeXray/train/Image_2.jpg      1\n",
       "2  ./KneeXray/train/Image_3.jpg      0\n",
       "3  ./KneeXray/train/Image_4.jpg      1\n",
       "4  ./KneeXray/train/Image_5.jpg      2"
      ]
     },
     "execution_count": 31,
     "metadata": {},
     "output_type": "execute_result"
    }
   ],
   "source": [
    "# read Train.csv file which contains image names and labels and preprocess them\n",
    "compi_root_path= \"./KneeXray/\"\n",
    "df_val_compi = pd.read_csv(compi_root_path + \"Train.csv\")\n",
    "\n",
    "# add absolute path to the image names\n",
    "df_val_compi[\"filename\"] = df_val_compi.filename.apply(lambda x: compi_root_path+\"train/\" + x)\n",
    "df_val_compi.head()"
   ]
  },
  {
   "cell_type": "code",
   "execution_count": 8,
   "id": "suburban-shareware",
   "metadata": {
    "execution": {
     "iopub.execute_input": "2021-05-30T18:40:02.339459Z",
     "iopub.status.busy": "2021-05-30T18:40:02.324109Z",
     "iopub.status.idle": "2021-05-30T18:40:02.442504Z",
     "shell.execute_reply": "2021-05-30T18:40:02.442056Z",
     "shell.execute_reply.started": "2021-05-30T08:33:23.865039Z"
    },
    "papermill": {
     "duration": 0.158988,
     "end_time": "2021-05-30T18:40:02.442618",
     "exception": false,
     "start_time": "2021-05-30T18:40:02.283630",
     "status": "completed"
    },
    "tags": []
   },
   "outputs": [
    {
     "data": {
      "text/plain": [
       "Text(0, 0.5, 'count')"
      ]
     },
     "execution_count": 8,
     "metadata": {},
     "output_type": "execute_result"
    },
    {
     "data": {
      "image/png": "[encoded data removed]",
      "text/plain": [
       "<Figure size 432x288 with 1 Axes>"
      ]
     },
     "metadata": {
      "needs_background": "light"
     },
     "output_type": "display_data"
    }
   ],
   "source": [
    "# class count of compitition dataset\n",
    "df_val_compi.label.value_counts().plot.bar()\n",
    "plt.xlabel(\"label\")\n",
    "plt.ylabel(\"count\")"
   ]
  },
  {
   "cell_type": "code",
   "execution_count": 50,
   "id": "saving-homework",
   "metadata": {
    "execution": {
     "iopub.execute_input": "2021-05-30T18:40:02.529039Z",
     "iopub.status.busy": "2021-05-30T18:40:02.528305Z",
     "iopub.status.idle": "2021-05-30T18:40:02.574290Z",
     "shell.execute_reply": "2021-05-30T18:40:02.574903Z",
     "shell.execute_reply.started": "2021-05-30T08:54:21.600981Z"
    },
    "id": "p_d_De3_91RE",
    "outputId": "b4da3cb0-33e6-40eb-e4e4-710957e337a1",
    "papermill": {
     "duration": 0.098388,
     "end_time": "2021-05-30T18:40:02.575081",
     "exception": false,
     "start_time": "2021-05-30T18:40:02.476693",
     "status": "completed"
    },
    "tags": []
   },
   "outputs": [
    {
     "name": "stdout",
     "output_type": "stream",
     "text": [
      "Found 7828 validated image filenames.\n"
     ]
    }
   ],
   "source": [
    "# create validation generator\n",
    "valid_generator = valid_aug.flow_from_dataframe( \n",
    "dataframe= df_val_compi,\n",
    "x_col= \"filename\",\n",
    "y_col= \"label\",\n",
    "batch_size= 32,\n",
    "seed= 42,\n",
    "shuffle= True,\n",
    "class_mode= \"raw\",\n",
    "target_size= (224,224))"
   ]
  },
  {
   "cell_type": "markdown",
   "id": "marked-belarus",
   "metadata": {
    "id": "ui37veHu_ZGd",
    "papermill": {
     "duration": 0.033792,
     "end_time": "2021-05-30T18:40:02.643887",
     "exception": false,
     "start_time": "2021-05-30T18:40:02.610095",
     "status": "completed"
    },
    "tags": []
   },
   "source": [
    "### Model Architecture\n",
    "Here we will be using Xception by google. (I encourage you to try different architectures)"
   ]
  },
  {
   "cell_type": "code",
   "execution_count": 10,
   "id": "buried-tablet",
   "metadata": {
    "execution": {
     "iopub.execute_input": "2021-05-30T18:40:02.724467Z",
     "iopub.status.busy": "2021-05-30T18:40:02.723830Z",
     "iopub.status.idle": "2021-05-30T18:40:08.132744Z",
     "shell.execute_reply": "2021-05-30T18:40:08.131632Z",
     "shell.execute_reply.started": "2021-05-30T09:28:56.068101Z"
    },
    "id": "hCEJz92_91RF",
    "outputId": "1127ca7c-5c92-43c2-8e00-35460cd25e7f",
    "papermill": {
     "duration": 5.455093,
     "end_time": "2021-05-30T18:40:08.132878",
     "exception": false,
     "start_time": "2021-05-30T18:40:02.677785",
     "status": "completed"
    },
    "tags": []
   },
   "outputs": [],
   "source": [
    "xception = Xception(weights=\"imagenet\",)\n",
    "x=  xception.layers[-3].output\n",
    "\n",
    "x = tf.keras.layers.Conv2D(filters= 1024, kernel_size= 3, padding= \"same\")(x)\n",
    "x = tf.keras.layers.BatchNormalization()(x)\n",
    "x = tf.keras.layers.Activation(\"relu\")(x)\n",
    "\n",
    "x = tf.keras.layers.Conv2D(filters= 256, kernel_size= 3, padding= \"same\")(x)\n",
    "x = tf.keras.layers.BatchNormalization()(x)\n",
    "x = tf.keras.layers.Activation(\"relu\")(x)\n",
    "\n",
    "x = tf.keras.layers.Conv2D(filters= 64, kernel_size= 3, padding= \"same\")(x)\n",
    "x = tf.keras.layers.BatchNormalization()(x)\n",
    "x = tf.keras.layers.Activation(\"relu\")(x)\n",
    "\n",
    "x = tf.keras.layers.Conv2D(filters= n_class, kernel_size= 3, padding= \"same\")(x)\n",
    "x = tf.keras.layers.BatchNormalization()(x)\n",
    "x = tf.keras.layers.Activation(\"relu\")(x)\n",
    "\n",
    "GAP = tf.keras.layers.GlobalAveragePooling2D()(x)\n",
    "pred = tf.keras.activations.softmax(GAP)\n",
    "\n",
    "xception_model = Model(inputs=xception.input,outputs=pred)"
   ]
  },
  {
   "cell_type": "code",
   "execution_count": 11,
   "id": "norman-detector",
   "metadata": {
    "execution": {
     "iopub.execute_input": "2021-05-30T18:40:08.391663Z",
     "iopub.status.busy": "2021-05-30T18:40:08.385701Z",
     "iopub.status.idle": "2021-05-30T18:40:08.398432Z",
     "shell.execute_reply": "2021-05-30T18:40:08.397997Z",
     "shell.execute_reply.started": "2021-05-30T09:28:58.465217Z"
    },
    "id": "p9cMWPzr91RH",
    "papermill": {
     "duration": 0.226948,
     "end_time": "2021-05-30T18:40:08.398547",
     "exception": false,
     "start_time": "2021-05-30T18:40:08.171599",
     "status": "completed"
    },
    "tags": []
   },
   "outputs": [],
   "source": [
    "# compile\n",
    "xception_model.compile(optimizer = tf.keras.optimizers.Adam(learning_rate=0.00001,decay=0.0001),\n",
    "                 metrics=[\"acc\"],\n",
    "                 loss= tf.keras.losses.sparse_categorical_crossentropy)\n",
    "\n",
    "# callbacks and checkpoints\n",
    "checkpoint_path = \"xception_best.ckpt\"\n",
    "checkpoint_dir = os.path.dirname(checkpoint_path)\n",
    "my_callbacks = [\n",
    "               ModelCheckpoint(checkpoint_path,\n",
    "                               monitor = 'val_acc',\n",
    "                               verbose = 1,\n",
    "                               save_weights_only=True,\n",
    "                               save_best_only = True,\n",
    "                               mode=\"max\"),\n",
    "              EarlyStopping(monitor='val_loss',\n",
    "                            patience=5,\n",
    "                            verbose=0),\n",
    "              ReduceLROnPlateau(monitor='val_loss',\n",
    "                                patience=5,\n",
    "                                verbose=1)\n",
    "]"
   ]
  },
  {
   "cell_type": "markdown",
   "id": "crucial-administration",
   "metadata": {
    "id": "zZJxCg3B_k_f",
    "papermill": {
     "duration": 0.038495,
     "end_time": "2021-05-30T18:40:08.475329",
     "exception": false,
     "start_time": "2021-05-30T18:40:08.436834",
     "status": "completed"
    },
    "tags": []
   },
   "source": [
    "### Weighting classes\n",
    "As we have unevenly class distibution, we will weight them based on the number of samples"
   ]
  },
  {
   "cell_type": "code",
   "execution_count": 12,
   "id": "regional-indie",
   "metadata": {
    "execution": {
     "iopub.execute_input": "2021-05-30T18:40:08.558435Z",
     "iopub.status.busy": "2021-05-30T18:40:08.557616Z",
     "iopub.status.idle": "2021-05-30T18:40:09.060821Z",
     "shell.execute_reply": "2021-05-30T18:40:09.060357Z",
     "shell.execute_reply.started": "2021-05-30T09:30:11.007618Z"
    },
    "papermill": {
     "duration": 0.546357,
     "end_time": "2021-05-30T18:40:09.060960",
     "exception": false,
     "start_time": "2021-05-30T18:40:08.514603",
     "status": "completed"
    },
    "tags": []
   },
   "outputs": [],
   "source": [
    "from sklearn.utils import class_weight\n",
    "class_weights = class_weight.compute_class_weight('balanced',\n",
    "                                                 classes= np.unique(df_train_kaggle.label.values),\n",
    "                                                 y= df_train_kaggle.label.values)\n",
    "class_weights = dict(enumerate(class_weights))"
   ]
  },
  {
   "cell_type": "markdown",
   "id": "square-better",
   "metadata": {
    "papermill": {
     "duration": 0.037503,
     "end_time": "2021-05-30T18:40:09.136492",
     "exception": false,
     "start_time": "2021-05-30T18:40:09.098989",
     "status": "completed"
    },
    "tags": []
   },
   "source": [
    "# Train\n",
    "Lets roll"
   ]
  },
  {
   "cell_type": "code",
   "execution_count": 13,
   "id": "hidden-stephen",
   "metadata": {
    "execution": {
     "iopub.execute_input": "2021-05-30T18:40:09.218272Z",
     "iopub.status.busy": "2021-05-30T18:40:09.217728Z",
     "iopub.status.idle": "2021-05-30T20:12:12.156502Z",
     "shell.execute_reply": "2021-05-30T20:12:12.154537Z",
     "shell.execute_reply.started": "2021-05-26T18:49:57.904339Z"
    },
    "id": "ZS9ZDJBG91RI",
    "outputId": "4c864283-b7a2-4075-bb8c-46164c13244b",
    "papermill": {
     "duration": 5522.981999,
     "end_time": "2021-05-30T20:12:12.156678",
     "exception": false,
     "start_time": "2021-05-30T18:40:09.174679",
     "status": "completed"
    },
    "tags": []
   },
   "outputs": [
    {
     "name": "stdout",
     "output_type": "stream",
     "text": [
      "Epoch 1/100\n",
      "306/306 [==============================] - ETA: 0s - loss: 1.4164 - acc: 0.3159\n",
      "Epoch 1: val_acc improved from -inf to 0.26929, saving model to xception_best.ckpt\n",
      "306/306 [==============================] - 192s 583ms/step - loss: 1.4164 - acc: 0.3159 - val_loss: 1.6313 - val_acc: 0.2693 - lr: 1.0000e-05\n",
      "Epoch 2/100\n",
      "306/306 [==============================] - ETA: 0s - loss: 1.1683 - acc: 0.4807\n",
      "Epoch 2: val_acc improved from 0.26929 to 0.39371, saving model to xception_best.ckpt\n",
      "306/306 [==============================] - 167s 545ms/step - loss: 1.1683 - acc: 0.4807 - val_loss: 1.5215 - val_acc: 0.3937 - lr: 1.0000e-05\n",
      "Epoch 3/100\n",
      "306/306 [==============================] - ETA: 0s - loss: 1.0277 - acc: 0.5697\n",
      "Epoch 3: val_acc improved from 0.39371 to 0.57550, saving model to xception_best.ckpt\n",
      "306/306 [==============================] - 172s 561ms/step - loss: 1.0277 - acc: 0.5697 - val_loss: 1.2175 - val_acc: 0.5755 - lr: 1.0000e-05\n",
      "Epoch 4/100\n",
      "306/306 [==============================] - ETA: 0s - loss: 0.9309 - acc: 0.6366\n",
      "Epoch 4: val_acc improved from 0.57550 to 0.60347, saving model to xception_best.ckpt\n",
      "306/306 [==============================] - 175s 571ms/step - loss: 0.9309 - acc: 0.6366 - val_loss: 1.1853 - val_acc: 0.6035 - lr: 1.0000e-05\n",
      "Epoch 5/100\n",
      "306/306 [==============================] - ETA: 0s - loss: 0.8445 - acc: 0.7040\n",
      "Epoch 5: val_acc improved from 0.60347 to 0.66811, saving model to xception_best.ckpt\n",
      "306/306 [==============================] - 177s 577ms/step - loss: 0.8445 - acc: 0.7040 - val_loss: 1.0844 - val_acc: 0.6681 - lr: 1.0000e-05\n",
      "Epoch 6/100\n",
      "306/306 [==============================] - ETA: 0s - loss: 0.7607 - acc: 0.7630\n",
      "Epoch 6: val_acc improved from 0.66811 to 0.70210, saving model to xception_best.ckpt\n",
      "306/306 [==============================] - 177s 577ms/step - loss: 0.7607 - acc: 0.7630 - val_loss: 1.0399 - val_acc: 0.7021 - lr: 1.0000e-05\n",
      "Epoch 7/100\n",
      "306/306 [==============================] - ETA: 0s - loss: 0.6932 - acc: 0.8066\n",
      "Epoch 7: val_acc improved from 0.70210 to 0.74285, saving model to xception_best.ckpt\n",
      "306/306 [==============================] - 177s 579ms/step - loss: 0.6932 - acc: 0.8066 - val_loss: 0.9917 - val_acc: 0.7428 - lr: 1.0000e-05\n",
      "Epoch 8/100\n",
      "306/306 [==============================] - ETA: 0s - loss: 0.6360 - acc: 0.8547\n",
      "Epoch 8: val_acc improved from 0.74285 to 0.76955, saving model to xception_best.ckpt\n",
      "306/306 [==============================] - 176s 577ms/step - loss: 0.6360 - acc: 0.8547 - val_loss: 0.9531 - val_acc: 0.7695 - lr: 1.0000e-05\n",
      "Epoch 9/100\n",
      "306/306 [==============================] - ETA: 0s - loss: 0.5989 - acc: 0.8869\n",
      "Epoch 9: val_acc improved from 0.76955 to 0.78641, saving model to xception_best.ckpt\n",
      "306/306 [==============================] - 177s 577ms/step - loss: 0.5989 - acc: 0.8869 - val_loss: 0.9378 - val_acc: 0.7864 - lr: 1.0000e-05\n",
      "Epoch 10/100\n",
      "306/306 [==============================] - ETA: 0s - loss: 0.5703 - acc: 0.9078\n",
      "Epoch 10: val_acc improved from 0.78641 to 0.81004, saving model to xception_best.ckpt\n",
      "306/306 [==============================] - 194s 635ms/step - loss: 0.5703 - acc: 0.9078 - val_loss: 0.9075 - val_acc: 0.8100 - lr: 1.0000e-05\n",
      "Epoch 11/100\n",
      "306/306 [==============================] - ETA: 0s - loss: 0.5458 - acc: 0.9304\n",
      "Epoch 11: val_acc improved from 0.81004 to 0.83993, saving model to xception_best.ckpt\n",
      "306/306 [==============================] - 210s 687ms/step - loss: 0.5458 - acc: 0.9304 - val_loss: 0.8745 - val_acc: 0.8399 - lr: 1.0000e-05\n",
      "Epoch 12/100\n",
      "306/306 [==============================] - ETA: 0s - loss: 0.5252 - acc: 0.9426\n",
      "Epoch 12: val_acc improved from 0.83993 to 0.84070, saving model to xception_best.ckpt\n",
      "306/306 [==============================] - 210s 687ms/step - loss: 0.5252 - acc: 0.9426 - val_loss: 0.8671 - val_acc: 0.8407 - lr: 1.0000e-05\n",
      "Epoch 13/100\n",
      "306/306 [==============================] - ETA: 0s - loss: 0.5079 - acc: 0.9552\n",
      "Epoch 13: val_acc improved from 0.84070 to 0.86369, saving model to xception_best.ckpt\n",
      "306/306 [==============================] - 209s 682ms/step - loss: 0.5079 - acc: 0.9552 - val_loss: 0.8369 - val_acc: 0.8637 - lr: 1.0000e-05\n",
      "Epoch 14/100\n",
      "306/306 [==============================] - ETA: 0s - loss: 0.4969 - acc: 0.9606\n",
      "Epoch 14: val_acc improved from 0.86369 to 0.86663, saving model to xception_best.ckpt\n",
      "306/306 [==============================] - 172s 561ms/step - loss: 0.4969 - acc: 0.9606 - val_loss: 0.8363 - val_acc: 0.8666 - lr: 1.0000e-05\n",
      "Epoch 15/100\n",
      "306/306 [==============================] - ETA: 0s - loss: 0.4865 - acc: 0.9681\n",
      "Epoch 15: val_acc improved from 0.86663 to 0.87379, saving model to xception_best.ckpt\n",
      "306/306 [==============================] - 175s 573ms/step - loss: 0.4865 - acc: 0.9681 - val_loss: 0.8242 - val_acc: 0.8738 - lr: 1.0000e-05\n",
      "Epoch 16/100\n",
      "306/306 [==============================] - ETA: 0s - loss: 0.4766 - acc: 0.9746\n",
      "Epoch 16: val_acc improved from 0.87379 to 0.89819, saving model to xception_best.ckpt\n",
      "306/306 [==============================] - 176s 576ms/step - loss: 0.4766 - acc: 0.9746 - val_loss: 0.7937 - val_acc: 0.8982 - lr: 1.0000e-05\n",
      "Epoch 17/100\n",
      "306/306 [==============================] - ETA: 0s - loss: 0.4734 - acc: 0.9777\n",
      "Epoch 17: val_acc did not improve from 0.89819\n",
      "306/306 [==============================] - 176s 574ms/step - loss: 0.4734 - acc: 0.9777 - val_loss: 0.7985 - val_acc: 0.8875 - lr: 1.0000e-05\n",
      "Epoch 18/100\n",
      "306/306 [==============================] - ETA: 0s - loss: 0.4592 - acc: 0.9810\n",
      "Epoch 18: val_acc did not improve from 0.89819\n",
      "306/306 [==============================] - 176s 575ms/step - loss: 0.4592 - acc: 0.9810 - val_loss: 0.7794 - val_acc: 0.8946 - lr: 1.0000e-05\n",
      "Epoch 19/100\n",
      "306/306 [==============================] - ETA: 0s - loss: 0.4573 - acc: 0.9827\n",
      "Epoch 19: val_acc improved from 0.89819 to 0.90355, saving model to xception_best.ckpt\n",
      "306/306 [==============================] - 177s 579ms/step - loss: 0.4573 - acc: 0.9827 - val_loss: 0.7707 - val_acc: 0.9036 - lr: 1.0000e-05\n",
      "Epoch 20/100\n",
      "306/306 [==============================] - ETA: 0s - loss: 0.4519 - acc: 0.9872\n",
      "Epoch 20: val_acc did not improve from 0.90355\n",
      "306/306 [==============================] - 176s 575ms/step - loss: 0.4519 - acc: 0.9872 - val_loss: 0.8051 - val_acc: 0.8858 - lr: 1.0000e-05\n",
      "Epoch 21/100\n",
      "306/306 [==============================] - ETA: 0s - loss: 0.4473 - acc: 0.9875\n",
      "Epoch 21: val_acc did not improve from 0.90355\n",
      "306/306 [==============================] - 176s 577ms/step - loss: 0.4473 - acc: 0.9875 - val_loss: 0.7783 - val_acc: 0.8883 - lr: 1.0000e-05\n",
      "Epoch 22/100\n",
      "306/306 [==============================] - ETA: 0s - loss: 0.4428 - acc: 0.9881\n",
      "Epoch 22: val_acc did not improve from 0.90355\n",
      "306/306 [==============================] - 187s 612ms/step - loss: 0.4428 - acc: 0.9881 - val_loss: 0.7642 - val_acc: 0.8964 - lr: 1.0000e-05\n",
      "Epoch 23/100\n",
      "306/306 [==============================] - ETA: 0s - loss: 0.4383 - acc: 0.9903\n",
      "Epoch 23: val_acc did not improve from 0.90355\n",
      "306/306 [==============================] - 209s 684ms/step - loss: 0.4383 - acc: 0.9903 - val_loss: 0.7639 - val_acc: 0.8986 - lr: 1.0000e-05\n",
      "Epoch 24/100\n",
      "306/306 [==============================] - ETA: 0s - loss: 0.4355 - acc: 0.9890\n",
      "Epoch 24: val_acc improved from 0.90355 to 0.91645, saving model to xception_best.ckpt\n",
      "306/306 [==============================] - 210s 686ms/step - loss: 0.4355 - acc: 0.9890 - val_loss: 0.7310 - val_acc: 0.9165 - lr: 1.0000e-05\n",
      "Epoch 25/100\n",
      "306/306 [==============================] - ETA: 0s - loss: 0.4314 - acc: 0.9923\n",
      "Epoch 25: val_acc did not improve from 0.91645\n",
      "306/306 [==============================] - 208s 680ms/step - loss: 0.4314 - acc: 0.9923 - val_loss: 0.7464 - val_acc: 0.9056 - lr: 1.0000e-05\n",
      "Epoch 26/100\n",
      "306/306 [==============================] - ETA: 0s - loss: 0.4300 - acc: 0.9920\n",
      "Epoch 26: val_acc improved from 0.91645 to 0.92067, saving model to xception_best.ckpt\n",
      "306/306 [==============================] - 211s 688ms/step - loss: 0.4300 - acc: 0.9920 - val_loss: 0.7264 - val_acc: 0.9207 - lr: 1.0000e-05\n",
      "Epoch 27/100\n",
      "306/306 [==============================] - ETA: 0s - loss: 0.4217 - acc: 0.9933\n",
      "Epoch 27: val_acc improved from 0.92067 to 0.92412, saving model to xception_best.ckpt\n",
      "306/306 [==============================] - 178s 581ms/step - loss: 0.4217 - acc: 0.9933 - val_loss: 0.7106 - val_acc: 0.9241 - lr: 1.0000e-05\n",
      "Epoch 28/100\n",
      "306/306 [==============================] - ETA: 0s - loss: 0.4224 - acc: 0.9929\n",
      "Epoch 28: val_acc did not improve from 0.92412\n",
      "306/306 [==============================] - 176s 574ms/step - loss: 0.4224 - acc: 0.9929 - val_loss: 0.7134 - val_acc: 0.9191 - lr: 1.0000e-05\n",
      "Epoch 29/100\n",
      "306/306 [==============================] - ETA: 0s - loss: 0.4148 - acc: 0.9957\n",
      "Epoch 29: val_acc improved from 0.92412 to 0.92757, saving model to xception_best.ckpt\n",
      "306/306 [==============================] - 179s 585ms/step - loss: 0.4148 - acc: 0.9957 - val_loss: 0.7049 - val_acc: 0.9276 - lr: 1.0000e-05\n",
      "Epoch 30/100\n",
      "306/306 [==============================] - ETA: 0s - loss: 0.4167 - acc: 0.9928\n",
      "Epoch 30: val_acc did not improve from 0.92757\n",
      "306/306 [==============================] - 177s 580ms/step - loss: 0.4167 - acc: 0.9928 - val_loss: 0.6944 - val_acc: 0.9273 - lr: 1.0000e-05\n",
      "Epoch 31/100\n",
      "306/306 [==============================] - ETA: 0s - loss: 0.4161 - acc: 0.9945\n",
      "Epoch 31: val_acc did not improve from 0.92757\n",
      "306/306 [==============================] - 214s 701ms/step - loss: 0.4161 - acc: 0.9945 - val_loss: 0.6986 - val_acc: 0.9189 - lr: 1.0000e-05\n",
      "Epoch 32/100\n",
      "306/306 [==============================] - ETA: 0s - loss: 0.4129 - acc: 0.9956\n",
      "Epoch 32: val_acc did not improve from 0.92757\n",
      "306/306 [==============================] - 213s 696ms/step - loss: 0.4129 - acc: 0.9956 - val_loss: 0.7105 - val_acc: 0.9073 - lr: 1.0000e-05\n",
      "Epoch 33/100\n",
      "306/306 [==============================] - ETA: 0s - loss: 0.4142 - acc: 0.9942\n",
      "Epoch 33: val_acc did not improve from 0.92757\n",
      "306/306 [==============================] - 205s 671ms/step - loss: 0.4142 - acc: 0.9942 - val_loss: 0.6986 - val_acc: 0.9120 - lr: 1.0000e-05\n",
      "Epoch 34/100\n",
      "306/306 [==============================] - ETA: 0s - loss: 0.4075 - acc: 0.9945\n",
      "Epoch 34: val_acc improved from 0.92757 to 0.93510, saving model to xception_best.ckpt\n",
      "306/306 [==============================] - 220s 721ms/step - loss: 0.4075 - acc: 0.9945 - val_loss: 0.6730 - val_acc: 0.9351 - lr: 1.0000e-05\n",
      "Epoch 35/100\n",
      "306/306 [==============================] - ETA: 0s - loss: 0.4088 - acc: 0.9958\n",
      "Epoch 35: val_acc improved from 0.93510 to 0.93536, saving model to xception_best.ckpt\n",
      "306/306 [==============================] - 213s 696ms/step - loss: 0.4088 - acc: 0.9958 - val_loss: 0.6655 - val_acc: 0.9354 - lr: 1.0000e-05\n",
      "Epoch 36/100\n",
      "306/306 [==============================] - ETA: 0s - loss: 0.4054 - acc: 0.9964\n",
      "Epoch 36: val_acc did not improve from 0.93536\n",
      "306/306 [==============================] - 206s 674ms/step - loss: 0.4054 - acc: 0.9964 - val_loss: 0.6722 - val_acc: 0.9301 - lr: 1.0000e-05\n",
      "Epoch 37/100\n",
      "306/306 [==============================] - ETA: 0s - loss: 0.4032 - acc: 0.9961\n",
      "Epoch 37: val_acc improved from 0.93536 to 0.93740, saving model to xception_best.ckpt\n",
      "306/306 [==============================] - 216s 707ms/step - loss: 0.4032 - acc: 0.9961 - val_loss: 0.6593 - val_acc: 0.9374 - lr: 1.0000e-05\n",
      "Epoch 38/100\n",
      "306/306 [==============================] - ETA: 0s - loss: 0.4019 - acc: 0.9971\n",
      "Epoch 38: val_acc improved from 0.93740 to 0.93766, saving model to xception_best.ckpt\n",
      "306/306 [==============================] - 211s 688ms/step - loss: 0.4019 - acc: 0.9971 - val_loss: 0.6571 - val_acc: 0.9377 - lr: 1.0000e-05\n",
      "Epoch 39/100\n",
      "306/306 [==============================] - ETA: 0s - loss: 0.3970 - acc: 0.9971\n",
      "Epoch 39: val_acc did not improve from 0.93766\n",
      "306/306 [==============================] - 205s 669ms/step - loss: 0.3970 - acc: 0.9971 - val_loss: 0.6571 - val_acc: 0.9332 - lr: 1.0000e-05\n",
      "Epoch 40/100\n",
      "306/306 [==============================] - ETA: 0s - loss: 0.3983 - acc: 0.9978\n",
      "Epoch 40: val_acc did not improve from 0.93766\n",
      "306/306 [==============================] - 206s 672ms/step - loss: 0.3983 - acc: 0.9978 - val_loss: 0.6604 - val_acc: 0.9309 - lr: 1.0000e-05\n",
      "Epoch 41/100\n",
      "306/306 [==============================] - ETA: 0s - loss: 0.3947 - acc: 0.9973\n",
      "Epoch 41: val_acc improved from 0.93766 to 0.94699, saving model to xception_best.ckpt\n",
      "306/306 [==============================] - 205s 671ms/step - loss: 0.3947 - acc: 0.9973 - val_loss: 0.6343 - val_acc: 0.9470 - lr: 1.0000e-05\n",
      "Epoch 42/100\n",
      "306/306 [==============================] - ETA: 0s - loss: 0.3954 - acc: 0.9967\n",
      "Epoch 42: val_acc did not improve from 0.94699\n",
      "306/306 [==============================] - 217s 708ms/step - loss: 0.3954 - acc: 0.9967 - val_loss: 0.6453 - val_acc: 0.9359 - lr: 1.0000e-05\n",
      "Epoch 43/100\n",
      "306/306 [==============================] - ETA: 0s - loss: 0.3955 - acc: 0.9982\n",
      "Epoch 43: val_acc did not improve from 0.94699\n",
      "306/306 [==============================] - 241s 787ms/step - loss: 0.3955 - acc: 0.9982 - val_loss: 0.6309 - val_acc: 0.9447 - lr: 1.0000e-05\n",
      "Epoch 44/100\n",
      "306/306 [==============================] - ETA: 0s - loss: 0.3948 - acc: 0.9971\n",
      "Epoch 44: val_acc did not improve from 0.94699\n",
      "306/306 [==============================] - 234s 764ms/step - loss: 0.3948 - acc: 0.9971 - val_loss: 0.6320 - val_acc: 0.9439 - lr: 1.0000e-05\n",
      "Epoch 45/100\n",
      "306/306 [==============================] - ETA: 0s - loss: 0.3959 - acc: 0.9963\n",
      "Epoch 45: val_acc did not improve from 0.94699\n",
      "306/306 [==============================] - 237s 776ms/step - loss: 0.3959 - acc: 0.9963 - val_loss: 0.6582 - val_acc: 0.9234 - lr: 1.0000e-05\n",
      "Epoch 46/100\n",
      "306/306 [==============================] - ETA: 0s - loss: 0.3906 - acc: 0.9974\n",
      "Epoch 46: val_acc improved from 0.94699 to 0.94954, saving model to xception_best.ckpt\n",
      "306/306 [==============================] - 243s 793ms/step - loss: 0.3906 - acc: 0.9974 - val_loss: 0.6230 - val_acc: 0.9495 - lr: 1.0000e-05\n",
      "Epoch 47/100\n",
      "306/306 [==============================] - ETA: 0s - loss: 0.3919 - acc: 0.9978\n",
      "Epoch 47: val_acc did not improve from 0.94954\n",
      "306/306 [==============================] - 240s 784ms/step - loss: 0.3919 - acc: 0.9978 - val_loss: 0.6342 - val_acc: 0.9425 - lr: 1.0000e-05\n",
      "Epoch 48/100\n",
      "306/306 [==============================] - ETA: 0s - loss: 0.3930 - acc: 0.9962\n",
      "Epoch 48: val_acc did not improve from 0.94954\n",
      "306/306 [==============================] - 229s 748ms/step - loss: 0.3930 - acc: 0.9962 - val_loss: 0.6313 - val_acc: 0.9429 - lr: 1.0000e-05\n",
      "Epoch 49/100\n",
      "306/306 [==============================] - ETA: 0s - loss: 0.3891 - acc: 0.9974\n",
      "Epoch 49: val_acc did not improve from 0.94954\n",
      "306/306 [==============================] - 208s 680ms/step - loss: 0.3891 - acc: 0.9974 - val_loss: 0.6408 - val_acc: 0.9317 - lr: 1.0000e-05\n",
      "Epoch 50/100\n",
      "306/306 [==============================] - ETA: 0s - loss: 0.3921 - acc: 0.9965\n",
      "Epoch 50: val_acc did not improve from 0.94954\n",
      "306/306 [==============================] - 211s 691ms/step - loss: 0.3921 - acc: 0.9965 - val_loss: 0.6408 - val_acc: 0.9295 - lr: 1.0000e-05\n",
      "Epoch 51/100\n",
      "306/306 [==============================] - ETA: 0s - loss: 0.3854 - acc: 0.9980\n",
      "Epoch 51: val_acc did not improve from 0.94954\n",
      "306/306 [==============================] - 220s 718ms/step - loss: 0.3854 - acc: 0.9980 - val_loss: 0.6186 - val_acc: 0.9470 - lr: 1.0000e-05\n",
      "Epoch 52/100\n",
      "306/306 [==============================] - ETA: 0s - loss: 0.3893 - acc: 0.9978\n",
      "Epoch 52: val_acc did not improve from 0.94954\n",
      "306/306 [==============================] - 213s 698ms/step - loss: 0.3893 - acc: 0.9978 - val_loss: 0.6187 - val_acc: 0.9424 - lr: 1.0000e-05\n",
      "Epoch 53/100\n",
      "306/306 [==============================] - ETA: 0s - loss: 0.3848 - acc: 0.9979\n",
      "Epoch 53: val_acc did not improve from 0.94954\n",
      "306/306 [==============================] - 222s 727ms/step - loss: 0.3848 - acc: 0.9979 - val_loss: 0.6112 - val_acc: 0.9444 - lr: 1.0000e-05\n",
      "Epoch 54/100\n",
      "306/306 [==============================] - ETA: 0s - loss: 0.3838 - acc: 0.9974\n",
      "Epoch 54: val_acc did not improve from 0.94954\n",
      "306/306 [==============================] - 229s 748ms/step - loss: 0.3838 - acc: 0.9974 - val_loss: 0.6172 - val_acc: 0.9403 - lr: 1.0000e-05\n",
      "Epoch 55/100\n",
      "306/306 [==============================] - ETA: 0s - loss: 0.3826 - acc: 0.9973\n",
      "Epoch 55: val_acc improved from 0.94954 to 0.95171, saving model to xception_best.ckpt\n",
      "306/306 [==============================] - 229s 750ms/step - loss: 0.3826 - acc: 0.9973 - val_loss: 0.5947 - val_acc: 0.9517 - lr: 1.0000e-05\n",
      "Epoch 56/100\n",
      "306/306 [==============================] - ETA: 0s - loss: 0.3820 - acc: 0.9980\n",
      "Epoch 56: val_acc did not improve from 0.95171\n",
      "306/306 [==============================] - 213s 696ms/step - loss: 0.3820 - acc: 0.9980 - val_loss: 0.6046 - val_acc: 0.9488 - lr: 1.0000e-05\n",
      "Epoch 57/100\n",
      "306/306 [==============================] - ETA: 0s - loss: 0.3787 - acc: 0.9987\n",
      "Epoch 57: val_acc did not improve from 0.95171\n",
      "306/306 [==============================] - 210s 688ms/step - loss: 0.3787 - acc: 0.9987 - val_loss: 0.5987 - val_acc: 0.9508 - lr: 1.0000e-05\n",
      "Epoch 58/100\n",
      "306/306 [==============================] - ETA: 0s - loss: 0.3748 - acc: 0.9987\n",
      "Epoch 58: val_acc did not improve from 0.95171\n",
      "306/306 [==============================] - 209s 683ms/step - loss: 0.3748 - acc: 0.9987 - val_loss: 0.6021 - val_acc: 0.9513 - lr: 1.0000e-05\n",
      "Epoch 59/100\n",
      "306/306 [==============================] - ETA: 0s - loss: 0.3787 - acc: 0.9972\n",
      "Epoch 59: val_acc did not improve from 0.95171\n",
      "306/306 [==============================] - 208s 681ms/step - loss: 0.3787 - acc: 0.9972 - val_loss: 0.6053 - val_acc: 0.9480 - lr: 1.0000e-05\n",
      "Epoch 60/100\n",
      "306/306 [==============================] - ETA: 0s - loss: 0.3796 - acc: 0.9970\n",
      "Epoch 60: val_acc did not improve from 0.95171\n",
      "\n",
      "Epoch 60: ReduceLROnPlateau reducing learning rate to 9.999999747378752e-07.\n",
      "306/306 [==============================] - 208s 681ms/step - loss: 0.3796 - acc: 0.9970 - val_loss: 0.5967 - val_acc: 0.9489 - lr: 1.0000e-05\n"
     ]
    },
    {
     "data": {
      "text/plain": [
       "<tensorflow.python.checkpoint.checkpoint.CheckpointLoadStatus at 0x237d38db6d0>"
      ]
     },
     "execution_count": 13,
     "metadata": {},
     "output_type": "execute_result"
    }
   ],
   "source": [
    "# train the model\n",
    "xception_model.fit(\n",
    "        train_generator,\n",
    "        epochs=100,\n",
    "        validation_data=valid_generator,\n",
    "        callbacks=[my_callbacks],\n",
    "        class_weight=class_weights)\n",
    "\n",
    "# load best saved weights\n",
    "xception_model.load_weights(checkpoint_path)"
   ]
  },
  {
   "cell_type": "markdown",
   "id": "pretty-morris",
   "metadata": {
    "id": "yY0voJHC_tQG",
    "papermill": {
     "duration": 3.201635,
     "end_time": "2021-05-30T20:12:18.344310",
     "exception": false,
     "start_time": "2021-05-30T20:12:15.142675",
     "status": "completed"
    },
    "tags": []
   },
   "source": [
    "### Observation\n",
    "As we can see train and validation accuracy is pretty close, which proves kaggle and competition data has come from the same distribution and we can freely use it to experiment with.\n",
    "\n",
    "## Retraining last trained model on competition data\n",
    "As we have used competition data as validation set previously, we will use it as train set now (and some part of it as validation set) hoping this additional training would give our model new information to perform better."
   ]
  },
  {
   "cell_type": "code",
   "execution_count": 14,
   "id": "cloudy-idaho",
   "metadata": {
    "execution": {
     "iopub.execute_input": "2021-05-30T20:12:24.238372Z",
     "iopub.status.busy": "2021-05-30T20:12:24.237660Z",
     "iopub.status.idle": "2021-05-30T20:12:24.305208Z",
     "shell.execute_reply": "2021-05-30T20:12:24.305579Z",
     "shell.execute_reply.started": "2021-05-30T09:30:16.948040Z"
    },
    "id": "xTZKY61591RJ",
    "papermill": {
     "duration": 3.027306,
     "end_time": "2021-05-30T20:12:24.305720",
     "exception": false,
     "start_time": "2021-05-30T20:12:21.278414",
     "status": "completed"
    },
    "tags": []
   },
   "outputs": [],
   "source": [
    "# train and validation split on competition data\n",
    "from sklearn.model_selection import train_test_split\n",
    "X_train, X_test = train_test_split(df_val_compi,\n",
    "                                   test_size=0.1,\n",
    "                                   random_state=42,\n",
    "                                   stratify= df_val_compi.label)"
   ]
  },
  {
   "cell_type": "code",
   "execution_count": 15,
   "id": "nervous-crisis",
   "metadata": {
    "execution": {
     "iopub.execute_input": "2021-05-30T20:12:30.429807Z",
     "iopub.status.busy": "2021-05-30T20:12:30.429001Z",
     "iopub.status.idle": "2021-05-30T20:12:30.472297Z",
     "shell.execute_reply": "2021-05-30T20:12:30.471634Z",
     "shell.execute_reply.started": "2021-05-30T09:30:18.098841Z"
    },
    "id": "gRZD_AQE91RK",
    "outputId": "3aec7767-0b06-410b-cf55-b2f6dc2c6ed4",
    "papermill": {
     "duration": 3.239148,
     "end_time": "2021-05-30T20:12:30.472465",
     "exception": false,
     "start_time": "2021-05-30T20:12:27.233317",
     "status": "completed"
    },
    "tags": []
   },
   "outputs": [
    {
     "name": "stdout",
     "output_type": "stream",
     "text": [
      "Found 7045 validated image filenames.\n"
     ]
    }
   ],
   "source": [
    "train_generator = train_aug.flow_from_dataframe(\n",
    "dataframe = X_train,\n",
    "x_col=\"filename\",\n",
    "y_col=\"label\",\n",
    "batch_size=32,\n",
    "seed=42,\n",
    "shuffle=True,\n",
    "class_mode=\"raw\",\n",
    "target_size=(224,224))"
   ]
  },
  {
   "cell_type": "code",
   "execution_count": 16,
   "id": "instrumental-indie",
   "metadata": {
    "execution": {
     "iopub.execute_input": "2021-05-30T20:12:36.309467Z",
     "iopub.status.busy": "2021-05-30T20:12:36.308631Z",
     "iopub.status.idle": "2021-05-30T20:12:36.318017Z",
     "shell.execute_reply": "2021-05-30T20:12:36.317530Z",
     "shell.execute_reply.started": "2021-05-30T09:30:23.206485Z"
    },
    "id": "XHls_W4B91RK",
    "outputId": "fc52d36f-8e70-45d2-a90c-4d530c554095",
    "papermill": {
     "duration": 2.927421,
     "end_time": "2021-05-30T20:12:36.318129",
     "exception": false,
     "start_time": "2021-05-30T20:12:33.390708",
     "status": "completed"
    },
    "tags": []
   },
   "outputs": [
    {
     "name": "stdout",
     "output_type": "stream",
     "text": [
      "Found 783 validated image filenames.\n"
     ]
    }
   ],
   "source": [
    "valid_generator = valid_aug.flow_from_dataframe( \n",
    "dataframe=X_test,\n",
    "x_col=\"filename\",\n",
    "y_col=\"label\",\n",
    "batch_size=32,\n",
    "seed=42,\n",
    "shuffle=True,\n",
    "class_mode=\"raw\",\n",
    "target_size=(224,224))"
   ]
  },
  {
   "cell_type": "code",
   "execution_count": 17,
   "id": "dedicated-chapel",
   "metadata": {
    "execution": {
     "iopub.execute_input": "2021-05-30T20:12:42.897491Z",
     "iopub.status.busy": "2021-05-30T20:12:42.895853Z",
     "iopub.status.idle": "2021-05-30T20:12:42.898202Z",
     "shell.execute_reply": "2021-05-30T20:12:42.898602Z",
     "shell.execute_reply.started": "2021-05-30T09:30:26.966513Z"
    },
    "id": "P67f-Nxn91RK",
    "papermill": {
     "duration": 3.108025,
     "end_time": "2021-05-30T20:12:42.898739",
     "exception": false,
     "start_time": "2021-05-30T20:12:39.790714",
     "status": "completed"
    },
    "tags": []
   },
   "outputs": [],
   "source": [
    "# number of steps to consider 1 as  epoch\n",
    "STEP_SIZE_TRAIN = train_generator.n//train_generator.batch_size\n",
    "STEP_SIZE_VALID =valid_generator.n//valid_generator.batch_size"
   ]
  },
  {
   "cell_type": "code",
   "execution_count": 18,
   "id": "sized-norfolk",
   "metadata": {
    "execution": {
     "iopub.execute_input": "2021-05-30T20:12:48.820785Z",
     "iopub.status.busy": "2021-05-30T20:12:48.819337Z",
     "iopub.status.idle": "2021-05-30T20:25:26.371458Z",
     "shell.execute_reply": "2021-05-30T20:25:26.371941Z",
     "shell.execute_reply.started": "2021-05-30T09:30:36.962285Z"
    },
    "id": "N8xX9ld391RL",
    "outputId": "eb60c9ed-cef3-45df-da38-ae926bf45f1a",
    "papermill": {
     "duration": 760.527609,
     "end_time": "2021-05-30T20:25:26.372105",
     "exception": false,
     "start_time": "2021-05-30T20:12:45.844496",
     "status": "completed"
    },
    "tags": []
   },
   "outputs": [
    {
     "name": "stdout",
     "output_type": "stream",
     "text": [
      "Epoch 1/50\n",
      "220/220 [==============================] - ETA: 0s - loss: 0.6113 - acc: 0.9323\n",
      "Epoch 1: val_acc improved from 0.95171 to 0.97396, saving model to xception_best.ckpt\n",
      "220/220 [==============================] - 135s 599ms/step - loss: 0.6113 - acc: 0.9323 - val_loss: 0.5067 - val_acc: 0.9740 - lr: 1.0000e-05\n",
      "Epoch 2/50\n",
      "220/220 [==============================] - ETA: 0s - loss: 0.5640 - acc: 0.9632\n",
      "Epoch 2: val_acc did not improve from 0.97396\n",
      "220/220 [==============================] - 128s 580ms/step - loss: 0.5640 - acc: 0.9632 - val_loss: 0.5230 - val_acc: 0.9701 - lr: 1.0000e-05\n",
      "Epoch 3/50\n",
      "220/220 [==============================] - ETA: 0s - loss: 0.5319 - acc: 0.9815\n",
      "Epoch 3: val_acc did not improve from 0.97396\n",
      "220/220 [==============================] - 127s 576ms/step - loss: 0.5319 - acc: 0.9815 - val_loss: 0.5268 - val_acc: 0.9727 - lr: 1.0000e-05\n",
      "Epoch 4/50\n",
      "220/220 [==============================] - ETA: 0s - loss: 0.5283 - acc: 0.9842\n",
      "Epoch 4: val_acc improved from 0.97396 to 0.97526, saving model to xception_best.ckpt\n",
      "220/220 [==============================] - 129s 585ms/step - loss: 0.5283 - acc: 0.9842 - val_loss: 0.5222 - val_acc: 0.9753 - lr: 1.0000e-05\n",
      "Epoch 5/50\n",
      "220/220 [==============================] - ETA: 0s - loss: 0.5216 - acc: 0.9866\n",
      "Epoch 5: val_acc improved from 0.97526 to 0.97656, saving model to xception_best.ckpt\n",
      "220/220 [==============================] - 129s 586ms/step - loss: 0.5216 - acc: 0.9866 - val_loss: 0.5179 - val_acc: 0.9766 - lr: 1.0000e-05\n",
      "Epoch 6/50\n",
      "220/220 [==============================] - ETA: 0s - loss: 0.5195 - acc: 0.9897\n",
      "Epoch 6: val_acc did not improve from 0.97656\n",
      "\n",
      "Epoch 6: ReduceLROnPlateau reducing learning rate to 9.999999747378752e-07.\n",
      "220/220 [==============================] - 127s 577ms/step - loss: 0.5195 - acc: 0.9897 - val_loss: 0.5221 - val_acc: 0.9688 - lr: 1.0000e-05\n"
     ]
    },
    {
     "data": {
      "text/plain": [
       "<keras.callbacks.History at 0x237dbd9bfa0>"
      ]
     },
     "execution_count": 18,
     "metadata": {},
     "output_type": "execute_result"
    }
   ],
   "source": [
    "# kick off training\n",
    "xception_model.fit(\n",
    "        train_generator,\n",
    "        steps_per_epoch=STEP_SIZE_TRAIN,\n",
    "        epochs=50,\n",
    "        validation_data=valid_generator,\n",
    "        validation_steps=STEP_SIZE_VALID,callbacks=[my_callbacks])"
   ]
  },
  {
   "cell_type": "code",
   "execution_count": 19,
   "id": "complete-spelling",
   "metadata": {
    "execution": {
     "iopub.execute_input": "2021-05-30T20:25:33.497837Z",
     "iopub.status.busy": "2021-05-30T20:25:33.496999Z",
     "iopub.status.idle": "2021-05-30T20:25:34.695800Z",
     "shell.execute_reply": "2021-05-30T20:25:34.695365Z",
     "shell.execute_reply.started": "2021-05-24T16:41:06.725854Z"
    },
    "id": "lSJjsKXu91RL",
    "outputId": "3fe99519-ff78-40bd-c632-74d12b41a4bb",
    "papermill": {
     "duration": 4.566888,
     "end_time": "2021-05-30T20:25:34.695951",
     "exception": false,
     "start_time": "2021-05-30T20:25:30.129063",
     "status": "completed"
    },
    "tags": []
   },
   "outputs": [
    {
     "data": {
      "text/plain": [
       "<tensorflow.python.checkpoint.checkpoint.CheckpointLoadStatus at 0x2361032e820>"
      ]
     },
     "execution_count": 19,
     "metadata": {},
     "output_type": "execute_result"
    }
   ],
   "source": [
    "# load best saved weights\n",
    "xception_model.load_weights(checkpoint_path)"
   ]
  },
  {
   "cell_type": "markdown",
   "id": "intended-cylinder",
   "metadata": {
    "papermill": {
     "duration": 3.633537,
     "end_time": "2021-05-30T20:25:41.743104",
     "exception": false,
     "start_time": "2021-05-30T20:25:38.109567",
     "status": "completed"
    },
    "tags": []
   },
   "source": [
    "# Confusion Matrix\n",
    "As our data set is imbalaned, lets see where is our model making mistakes. I encourage to you to take initative for bringing FPs and FNs down."
   ]
  },
  {
   "cell_type": "code",
   "execution_count": 20,
   "id": "equivalent-album",
   "metadata": {
    "execution": {
     "iopub.execute_input": "2021-05-30T20:25:48.625234Z",
     "iopub.status.busy": "2021-05-30T20:25:48.624438Z",
     "iopub.status.idle": "2021-05-30T20:25:48.634216Z",
     "shell.execute_reply": "2021-05-30T20:25:48.633804Z",
     "shell.execute_reply.started": "2021-05-27T05:35:10.161826Z"
    },
    "papermill": {
     "duration": 3.430239,
     "end_time": "2021-05-30T20:25:48.634343",
     "exception": false,
     "start_time": "2021-05-30T20:25:45.204104",
     "status": "completed"
    },
    "tags": []
   },
   "outputs": [
    {
     "name": "stdout",
     "output_type": "stream",
     "text": [
      "Found 783 validated image filenames.\n"
     ]
    }
   ],
   "source": [
    "from sklearn.metrics import precision_recall_curve\n",
    "target_shape = 224\n",
    "BATCH_SIZE = 1\n",
    "\n",
    "# test generator\n",
    "compi_gen = valid_aug.flow_from_dataframe(dataframe= X_test,\n",
    "                            x_col= \"filename\",\n",
    "                            class_mode=None,\n",
    "                            target_size= (target_shape, target_shape),\n",
    "                            shuffle= False,\n",
    "                            batch_size= BATCH_SIZE\n",
    "                            )"
   ]
  },
  {
   "cell_type": "code",
   "execution_count": 21,
   "id": "preceding-delight",
   "metadata": {
    "execution": {
     "iopub.execute_input": "2021-05-30T20:25:56.117007Z",
     "iopub.status.busy": "2021-05-30T20:25:56.116264Z",
     "iopub.status.idle": "2021-05-30T20:26:05.659358Z",
     "shell.execute_reply": "2021-05-30T20:26:05.658569Z",
     "shell.execute_reply.started": "2021-05-27T05:35:17.324361Z"
    },
    "papermill": {
     "duration": 12.914933,
     "end_time": "2021-05-30T20:26:05.659489",
     "exception": false,
     "start_time": "2021-05-30T20:25:52.744556",
     "status": "completed"
    },
    "tags": []
   },
   "outputs": [
    {
     "name": "stdout",
     "output_type": "stream",
     "text": [
      "783/783 [==============================] - 16s 18ms/step\n"
     ]
    }
   ],
   "source": [
    "# prediction on train data\n",
    "predicition_compi = xception_model.predict(compi_gen, steps= compi_gen.n/ BATCH_SIZE, verbose= 1)"
   ]
  },
  {
   "cell_type": "code",
   "execution_count": 22,
   "id": "distinguished-midwest",
   "metadata": {
    "execution": {
     "iopub.execute_input": "2021-05-30T20:26:12.667940Z",
     "iopub.status.busy": "2021-05-30T20:26:12.649791Z",
     "iopub.status.idle": "2021-05-30T20:26:13.051891Z",
     "shell.execute_reply": "2021-05-30T20:26:13.051413Z",
     "shell.execute_reply.started": "2021-05-27T05:43:44.837052Z"
    },
    "papermill": {
     "duration": 3.832152,
     "end_time": "2021-05-30T20:26:13.052010",
     "exception": false,
     "start_time": "2021-05-30T20:26:09.219858",
     "status": "completed"
    },
    "tags": []
   },
   "outputs": [
    {
     "data": {
      "text/plain": [
       "<sklearn.metrics._plot.confusion_matrix.ConfusionMatrixDisplay at 0x237dbe3e6d0>"
      ]
     },
     "execution_count": 22,
     "metadata": {},
     "output_type": "execute_result"
    },
    {
     "data": {
      "image/png": "[encoded data removed]",
      "text/plain": [
       "<Figure size 432x288 with 2 Axes>"
      ]
     },
     "metadata": {
      "needs_background": "light"
     },
     "output_type": "display_data"
    }
   ],
   "source": [
    "from sklearn.metrics import confusion_matrix, ConfusionMatrixDisplay\n",
    "class_prediction_compi =  np.argmax(predicition_compi, axis= 1)\n",
    "cm = confusion_matrix(X_test.label, class_prediction_compi, labels=[0, 1, 2, 3, 4])\n",
    "disp = ConfusionMatrixDisplay(confusion_matrix=cm,\n",
    "                              display_labels=[0, 1, 2, 3, 4])\n",
    "disp.plot()"
   ]
  },
  {
   "cell_type": "markdown",
   "id": "positive-wilson",
   "metadata": {
    "papermill": {
     "duration": 3.5306,
     "end_time": "2021-05-30T20:26:20.277590",
     "exception": false,
     "start_time": "2021-05-30T20:26:16.746990",
     "status": "completed"
    },
    "tags": []
   },
   "source": [
    "## Making prediction on test set (to make submission)\n",
    "Finally we save the predictions on disk in CSV format"
   ]
  },
  {
   "cell_type": "code",
   "execution_count": 23,
   "id": "constitutional-catholic",
   "metadata": {
    "execution": {
     "iopub.execute_input": "2021-05-30T20:26:28.031789Z",
     "iopub.status.busy": "2021-05-30T20:26:28.031111Z",
     "iopub.status.idle": "2021-05-30T20:26:28.058944Z",
     "shell.execute_reply": "2021-05-30T20:26:28.058161Z",
     "shell.execute_reply.started": "2021-05-27T09:08:20.550041Z"
    },
    "id": "NnkWdv8T91RM",
    "outputId": "fea0c8a7-0810-489a-9e62-69f11b5f1992",
    "papermill": {
     "duration": 4.034446,
     "end_time": "2021-05-30T20:26:28.059074",
     "exception": false,
     "start_time": "2021-05-30T20:26:24.024628",
     "status": "completed"
    },
    "tags": []
   },
   "outputs": [
    {
     "name": "stdout",
     "output_type": "stream",
     "text": [
      "Found 1958 validated image filenames.\n"
     ]
    }
   ],
   "source": [
    "# read the csv file\n",
    "test = pd.read_csv(compi_root_path + \"Test.csv\")\n",
    "\n",
    "# create test generator\n",
    "test_generator = valid_aug.flow_from_dataframe(\n",
    "dataframe= test,\n",
    "directory= compi_root_path + \"test\",\n",
    "x_col= \"filename\",\n",
    "y_col= None,\n",
    "batch_size= 1,\n",
    "seed= 42,\n",
    "shuffle= False,\n",
    "class_mode= None,\n",
    "target_size= (224,224))\n",
    "\n",
    "# number of steps to consider 1 epoch\n",
    "STEP_SIZE_TEST=test_generator.n//test_generator.batch_size"
   ]
  },
  {
   "cell_type": "code",
   "execution_count": 24,
   "id": "blocked-niagara",
   "metadata": {
    "execution": {
     "iopub.execute_input": "2021-05-30T20:26:34.994605Z",
     "iopub.status.busy": "2021-05-30T20:26:34.994000Z",
     "iopub.status.idle": "2021-05-30T20:26:56.340759Z",
     "shell.execute_reply": "2021-05-30T20:26:56.341118Z",
     "shell.execute_reply.started": "2021-05-27T05:51:39.116529Z"
    },
    "papermill": {
     "duration": 24.791614,
     "end_time": "2021-05-30T20:26:56.341303",
     "exception": false,
     "start_time": "2021-05-30T20:26:31.549689",
     "status": "completed"
    },
    "tags": []
   },
   "outputs": [
    {
     "name": "stdout",
     "output_type": "stream",
     "text": [
      "1958/1958 [==============================] - 35s 18ms/step\n"
     ]
    },
    {
     "data": {
      "text/plain": [
       "0    753\n",
       "2    519\n",
       "1    366\n",
       "3    261\n",
       "4     59\n",
       "Name: label, dtype: int64"
      ]
     },
     "execution_count": 24,
     "metadata": {},
     "output_type": "execute_result"
    }
   ],
   "source": [
    "# make prediction and create dataframe out of it\n",
    "pred = xception_model.predict(test_generator,steps=STEP_SIZE_TEST,verbose=1)\n",
    "df_submit = pd.DataFrame({\"label\":np.argmax(pred, axis= 1)})\n",
    "df_submit[\"label\"].value_counts()"
   ]
  },
  {
   "cell_type": "markdown",
   "id": "still-arthur",
   "metadata": {
    "papermill": {
     "duration": 3.549425,
     "end_time": "2021-05-30T20:27:04.148458",
     "exception": false,
     "start_time": "2021-05-30T20:27:00.599033",
     "status": "completed"
    },
    "tags": []
   },
   "source": [
    "### Clearing the working directory\n",
    "Because if don't, \"output\" tabl will show only images"
   ]
  },
  {
   "cell_type": "code",
   "execution_count": 25,
   "id": "decimal-hampshire",
   "metadata": {
    "execution": {
     "iopub.execute_input": "2021-05-30T20:27:11.522864Z",
     "iopub.status.busy": "2021-05-30T20:27:11.522085Z",
     "iopub.status.idle": "2021-05-30T20:27:11.842332Z",
     "shell.execute_reply": "2021-05-30T20:27:11.842916Z",
     "shell.execute_reply.started": "2021-05-27T05:51:43.875589Z"
    },
    "papermill": {
     "duration": 4.080149,
     "end_time": "2021-05-30T20:27:11.843118",
     "exception": false,
     "start_time": "2021-05-30T20:27:07.762969",
     "status": "completed"
    },
    "tags": []
   },
   "outputs": [
    {
     "name": "stdout",
     "output_type": "stream",
     "text": [
      "Error: /kaggle/working - The system cannot find the path specified.\n"
     ]
    }
   ],
   "source": [
    "import sys\n",
    "import shutil\n",
    "\n",
    "# Get directory name\n",
    "mydir = \"/kaggle/working\"\n",
    "\n",
    "try:\n",
    "    shutil.rmtree(mydir)\n",
    "except OSError as e:\n",
    "    print(\"Error: %s - %s.\" % (e.filename, e.strerror))"
   ]
  },
  {
   "cell_type": "markdown",
   "id": "portable-yacht",
   "metadata": {
    "papermill": {
     "duration": 3.504245,
     "end_time": "2021-05-30T20:27:18.913681",
     "exception": false,
     "start_time": "2021-05-30T20:27:15.409436",
     "status": "completed"
    },
    "tags": []
   },
   "source": [
    "### Save best weights and output prediction file"
   ]
  },
  {
   "cell_type": "code",
   "execution_count": 26,
   "id": "liquid-tsunami",
   "metadata": {
    "execution": {
     "iopub.execute_input": "2021-05-30T20:27:26.290338Z",
     "iopub.status.busy": "2021-05-30T20:27:26.289493Z",
     "iopub.status.idle": "2021-05-30T20:27:26.809425Z",
     "shell.execute_reply": "2021-05-30T20:27:26.808879Z",
     "shell.execute_reply.started": "2021-05-27T05:51:46.57395Z"
    },
    "id": "qPbzHOhJ91RN",
    "papermill": {
     "duration": 4.073647,
     "end_time": "2021-05-30T20:27:26.809566",
     "exception": false,
     "start_time": "2021-05-30T20:27:22.735919",
     "status": "completed"
    },
    "tags": []
   },
   "outputs": [],
   "source": [
    "xception_model.save_weights(\"knee_xray_Xceptionnet_GPA.h5\")\n",
    "df_submit.to_csv(\"submission.csv\",index=False)"
   ]
  },
  {
   "cell_type": "code",
   "execution_count": 34,
   "id": "7215eebd",
   "metadata": {},
   "outputs": [],
   "source": [
    "import tensorflow as tf\n",
    "from tensorflow.keras.applications import VGG19\n",
    "from tensorflow.keras.layers import Conv2D, BatchNormalization, Activation, GlobalAveragePooling2D\n",
    "from tensorflow.keras.models import Model\n",
    "\n",
    "# Load VGG19 model with imagenet weights\n",
    "vgg19 = VGG19(weights=\"imagenet\", include_top=False)\n",
    "\n",
    "# Take output from one of the earlier layers\n",
    "x = vgg19.layers[-3].output\n",
    "\n",
    "# Add additional layers similar to the ones in your Xception model\n",
    "x = Conv2D(filters=1024, kernel_size=3, padding=\"same\")(x)\n",
    "x = BatchNormalization()(x)\n",
    "x = Activation(\"relu\")(x)\n",
    "\n",
    "x = Conv2D(filters=256, kernel_size=3, padding=\"same\")(x)\n",
    "x = BatchNormalization()(x)\n",
    "x = Activation(\"relu\")(x)\n",
    "\n",
    "x = Conv2D(filters=64, kernel_size=3, padding=\"same\")(x)\n",
    "x = BatchNormalization()(x)\n",
    "x = Activation(\"relu\")(x)\n",
    "\n",
    "# Assuming n_class is defined earlier in your code\n",
    "n_class = 10  # You can change this according to your problem\n",
    "\n",
    "x = Conv2D(filters=n_class, kernel_size=3, padding=\"same\")(x)\n",
    "x = BatchNormalization()(x)\n",
    "x = Activation(\"relu\")(x)\n",
    "\n",
    "# Global Average Pooling\n",
    "GAP = GlobalAveragePooling2D()(x)\n",
    "\n",
    "# Softmax activation for classification\n",
    "pred = Activation(\"softmax\")(GAP)\n",
    "\n",
    "# Create model\n",
    "vgg19_model = Model(inputs=vgg19.input, outputs=pred)\n"
   ]
  },
  {
   "cell_type": "code",
   "execution_count": 35,
   "id": "7248d755",
   "metadata": {},
   "outputs": [],
   "source": [
    "# compile\n",
    "vgg19_model.compile(optimizer = tf.keras.optimizers.Adam(learning_rate=0.00001,decay=0.0001),\n",
    "                 metrics=[\"acc\"],\n",
    "                 loss= tf.keras.losses.sparse_categorical_crossentropy)\n",
    "\n",
    "# callbacks and checkpoints\n",
    "checkpoint_path = \"vgg19_best.ckpt\"\n",
    "checkpoint_dir = os.path.dirname(checkpoint_path)\n",
    "my_callbacks = [\n",
    "               ModelCheckpoint(checkpoint_path,\n",
    "                               monitor = 'val_acc',\n",
    "                               verbose = 1,\n",
    "                               save_weights_only=True,\n",
    "                               save_best_only = True,\n",
    "                               mode=\"max\"),\n",
    "              EarlyStopping(monitor='val_loss',\n",
    "                            patience=5,\n",
    "                            verbose=0),\n",
    "              ReduceLROnPlateau(monitor='val_loss',\n",
    "                                patience=5,\n",
    "                                verbose=1)]"
   ]
  },
  {
   "cell_type": "code",
   "execution_count": 36,
   "id": "b366e165",
   "metadata": {},
   "outputs": [
    {
     "name": "stdout",
     "output_type": "stream",
     "text": [
      "Epoch 1/100\n",
      "306/306 [==============================] - ETA: 0s - loss: 1.9266 - acc: 0.4083\n",
      "Epoch 1: val_acc improved from -inf to 0.32950, saving model to vgg19_best.ckpt\n",
      "306/306 [==============================] - 146s 472ms/step - loss: 1.9266 - acc: 0.4083 - val_loss: 2.0184 - val_acc: 0.3295 - lr: 1.0000e-05\n",
      "Epoch 2/100\n",
      "306/306 [==============================] - ETA: 0s - loss: 1.6343 - acc: 0.5359\n",
      "Epoch 2: val_acc improved from 0.32950 to 0.58621, saving model to vgg19_best.ckpt\n",
      "306/306 [==============================] - 142s 463ms/step - loss: 1.6343 - acc: 0.5359 - val_loss: 1.8145 - val_acc: 0.5862 - lr: 1.0000e-05\n",
      "Epoch 3/100\n",
      "306/306 [==============================] - ETA: 0s - loss: 1.5481 - acc: 0.5736\n",
      "Epoch 3: val_acc improved from 0.58621 to 0.60409, saving model to vgg19_best.ckpt\n",
      "306/306 [==============================] - 144s 470ms/step - loss: 1.5481 - acc: 0.5736 - val_loss: 1.7523 - val_acc: 0.6041 - lr: 1.0000e-05\n",
      "Epoch 4/100\n",
      "306/306 [==============================] - ETA: 0s - loss: 1.4825 - acc: 0.5959\n",
      "Epoch 4: val_acc did not improve from 0.60409\n",
      "306/306 [==============================] - 144s 469ms/step - loss: 1.4825 - acc: 0.5959 - val_loss: 1.6935 - val_acc: 0.5849 - lr: 1.0000e-05\n",
      "Epoch 5/100\n",
      "306/306 [==============================] - ETA: 0s - loss: 1.4291 - acc: 0.6184\n",
      "Epoch 5: val_acc did not improve from 0.60409\n",
      "306/306 [==============================] - 144s 471ms/step - loss: 1.4291 - acc: 0.6184 - val_loss: 1.7467 - val_acc: 0.4381 - lr: 1.0000e-05\n",
      "Epoch 6/100\n",
      "306/306 [==============================] - ETA: 0s - loss: 1.3888 - acc: 0.6404\n",
      "Epoch 6: val_acc did not improve from 0.60409\n",
      "306/306 [==============================] - 144s 472ms/step - loss: 1.3888 - acc: 0.6404 - val_loss: 1.6974 - val_acc: 0.5849 - lr: 1.0000e-05\n",
      "Epoch 7/100\n",
      "306/306 [==============================] - ETA: 0s - loss: 1.3551 - acc: 0.6672\n",
      "Epoch 7: val_acc improved from 0.60409 to 0.68710, saving model to vgg19_best.ckpt\n",
      "306/306 [==============================] - 145s 474ms/step - loss: 1.3551 - acc: 0.6672 - val_loss: 1.5389 - val_acc: 0.6871 - lr: 1.0000e-05\n",
      "Epoch 8/100\n",
      "306/306 [==============================] - ETA: 0s - loss: 1.3207 - acc: 0.6853\n",
      "Epoch 8: val_acc improved from 0.68710 to 0.74968, saving model to vgg19_best.ckpt\n",
      "306/306 [==============================] - 145s 475ms/step - loss: 1.3207 - acc: 0.6853 - val_loss: 1.5225 - val_acc: 0.7497 - lr: 1.0000e-05\n",
      "Epoch 9/100\n",
      "306/306 [==============================] - ETA: 0s - loss: 1.2829 - acc: 0.7076\n",
      "Epoch 9: val_acc did not improve from 0.74968\n",
      "306/306 [==============================] - 145s 474ms/step - loss: 1.2829 - acc: 0.7076 - val_loss: 1.6259 - val_acc: 0.5696 - lr: 1.0000e-05\n",
      "Epoch 10/100\n",
      "306/306 [==============================] - ETA: 0s - loss: 1.2452 - acc: 0.7375\n",
      "Epoch 10: val_acc improved from 0.74968 to 0.78289, saving model to vgg19_best.ckpt\n",
      "306/306 [==============================] - 145s 475ms/step - loss: 1.2452 - acc: 0.7375 - val_loss: 1.4627 - val_acc: 0.7829 - lr: 1.0000e-05\n",
      "Epoch 11/100\n",
      "306/306 [==============================] - ETA: 0s - loss: 1.2039 - acc: 0.7622\n",
      "Epoch 11: val_acc improved from 0.78289 to 0.80332, saving model to vgg19_best.ckpt\n",
      "306/306 [==============================] - 145s 475ms/step - loss: 1.2039 - acc: 0.7622 - val_loss: 1.4080 - val_acc: 0.8033 - lr: 1.0000e-05\n",
      "Epoch 12/100\n",
      "306/306 [==============================] - ETA: 0s - loss: 1.1740 - acc: 0.7853\n",
      "Epoch 12: val_acc did not improve from 0.80332\n",
      "306/306 [==============================] - 144s 472ms/step - loss: 1.1740 - acc: 0.7853 - val_loss: 1.3788 - val_acc: 0.7944 - lr: 1.0000e-05\n",
      "Epoch 13/100\n",
      "306/306 [==============================] - ETA: 0s - loss: 1.1365 - acc: 0.8080\n",
      "Epoch 13: val_acc improved from 0.80332 to 0.83653, saving model to vgg19_best.ckpt\n",
      "306/306 [==============================] - 146s 478ms/step - loss: 1.1365 - acc: 0.8080 - val_loss: 1.3279 - val_acc: 0.8365 - lr: 1.0000e-05\n",
      "Epoch 14/100\n",
      "306/306 [==============================] - ETA: 0s - loss: 1.1079 - acc: 0.8335\n",
      "Epoch 14: val_acc improved from 0.83653 to 0.86973, saving model to vgg19_best.ckpt\n",
      "306/306 [==============================] - 146s 477ms/step - loss: 1.1079 - acc: 0.8335 - val_loss: 1.3293 - val_acc: 0.8697 - lr: 1.0000e-05\n",
      "Epoch 15/100\n",
      "306/306 [==============================] - ETA: 0s - loss: 1.0708 - acc: 0.8577\n",
      "Epoch 15: val_acc improved from 0.86973 to 0.88123, saving model to vgg19_best.ckpt\n",
      "306/306 [==============================] - 146s 476ms/step - loss: 1.0708 - acc: 0.8577 - val_loss: 1.2867 - val_acc: 0.8812 - lr: 1.0000e-05\n",
      "Epoch 16/100\n",
      "306/306 [==============================] - ETA: 0s - loss: 1.0496 - acc: 0.8729\n",
      "Epoch 16: val_acc improved from 0.88123 to 0.90805, saving model to vgg19_best.ckpt\n",
      "306/306 [==============================] - 146s 476ms/step - loss: 1.0496 - acc: 0.8729 - val_loss: 1.2313 - val_acc: 0.9080 - lr: 1.0000e-05\n",
      "Epoch 17/100\n",
      "306/306 [==============================] - ETA: 0s - loss: 1.0134 - acc: 0.8883\n",
      "Epoch 17: val_acc improved from 0.90805 to 0.92593, saving model to vgg19_best.ckpt\n",
      "306/306 [==============================] - 146s 476ms/step - loss: 1.0134 - acc: 0.8883 - val_loss: 1.2145 - val_acc: 0.9259 - lr: 1.0000e-05\n",
      "Epoch 18/100\n",
      "306/306 [==============================] - ETA: 0s - loss: 0.9887 - acc: 0.9088\n",
      "Epoch 18: val_acc did not improve from 0.92593\n",
      "306/306 [==============================] - 144s 472ms/step - loss: 0.9887 - acc: 0.9088 - val_loss: 1.1881 - val_acc: 0.9234 - lr: 1.0000e-05\n",
      "Epoch 19/100\n",
      "306/306 [==============================] - ETA: 0s - loss: 0.9681 - acc: 0.9179\n",
      "Epoch 19: val_acc did not improve from 0.92593\n",
      "306/306 [==============================] - 144s 470ms/step - loss: 0.9681 - acc: 0.9179 - val_loss: 1.2219 - val_acc: 0.8825 - lr: 1.0000e-05\n",
      "Epoch 20/100\n",
      "306/306 [==============================] - ETA: 0s - loss: 0.9475 - acc: 0.9287\n",
      "Epoch 20: val_acc improved from 0.92593 to 0.93614, saving model to vgg19_best.ckpt\n",
      "306/306 [==============================] - 145s 473ms/step - loss: 0.9475 - acc: 0.9287 - val_loss: 1.1020 - val_acc: 0.9361 - lr: 1.0000e-05\n",
      "Epoch 21/100\n",
      "306/306 [==============================] - ETA: 0s - loss: 0.9243 - acc: 0.9384\n",
      "Epoch 21: val_acc did not improve from 0.93614\n",
      "306/306 [==============================] - 144s 470ms/step - loss: 0.9243 - acc: 0.9384 - val_loss: 1.1986 - val_acc: 0.9106 - lr: 1.0000e-05\n",
      "Epoch 22/100\n",
      "306/306 [==============================] - ETA: 0s - loss: 0.8997 - acc: 0.9494\n",
      "Epoch 22: val_acc improved from 0.93614 to 0.96169, saving model to vgg19_best.ckpt\n",
      "306/306 [==============================] - 145s 473ms/step - loss: 0.8997 - acc: 0.9494 - val_loss: 1.0833 - val_acc: 0.9617 - lr: 1.0000e-05\n",
      "Epoch 23/100\n",
      "306/306 [==============================] - ETA: 0s - loss: 0.8966 - acc: 0.9540\n",
      "Epoch 23: val_acc did not improve from 0.96169\n",
      "306/306 [==============================] - 144s 470ms/step - loss: 0.8966 - acc: 0.9540 - val_loss: 1.0811 - val_acc: 0.9527 - lr: 1.0000e-05\n",
      "Epoch 24/100\n",
      "306/306 [==============================] - ETA: 0s - loss: 0.8773 - acc: 0.9606\n",
      "Epoch 24: val_acc improved from 0.96169 to 0.97829, saving model to vgg19_best.ckpt\n",
      "306/306 [==============================] - 145s 475ms/step - loss: 0.8773 - acc: 0.9606 - val_loss: 1.0374 - val_acc: 0.9783 - lr: 1.0000e-05\n",
      "Epoch 25/100\n",
      "306/306 [==============================] - ETA: 0s - loss: 0.8608 - acc: 0.9622\n",
      "Epoch 25: val_acc did not improve from 0.97829\n",
      "306/306 [==============================] - 144s 471ms/step - loss: 0.8608 - acc: 0.9622 - val_loss: 1.1274 - val_acc: 0.9234 - lr: 1.0000e-05\n",
      "Epoch 26/100\n",
      "306/306 [==============================] - ETA: 0s - loss: 0.8505 - acc: 0.9687\n",
      "Epoch 26: val_acc improved from 0.97829 to 0.98084, saving model to vgg19_best.ckpt\n",
      "306/306 [==============================] - 145s 474ms/step - loss: 0.8505 - acc: 0.9687 - val_loss: 1.0074 - val_acc: 0.9808 - lr: 1.0000e-05\n",
      "Epoch 27/100\n",
      "306/306 [==============================] - ETA: 0s - loss: 0.8375 - acc: 0.9721\n",
      "Epoch 27: val_acc did not improve from 0.98084\n",
      "306/306 [==============================] - 144s 470ms/step - loss: 0.8375 - acc: 0.9721 - val_loss: 1.0130 - val_acc: 0.9693 - lr: 1.0000e-05\n",
      "Epoch 28/100\n",
      "306/306 [==============================] - ETA: 0s - loss: 0.8296 - acc: 0.9745\n",
      "Epoch 28: val_acc improved from 0.98084 to 0.98212, saving model to vgg19_best.ckpt\n",
      "306/306 [==============================] - 144s 472ms/step - loss: 0.8296 - acc: 0.9745 - val_loss: 1.0063 - val_acc: 0.9821 - lr: 1.0000e-05\n",
      "Epoch 29/100\n",
      "306/306 [==============================] - ETA: 0s - loss: 0.8203 - acc: 0.9802\n",
      "Epoch 29: val_acc did not improve from 0.98212\n",
      "306/306 [==============================] - 144s 469ms/step - loss: 0.8203 - acc: 0.9802 - val_loss: 0.9717 - val_acc: 0.9821 - lr: 1.0000e-05\n",
      "Epoch 30/100\n",
      "306/306 [==============================] - ETA: 0s - loss: 0.8091 - acc: 0.9825\n",
      "Epoch 30: val_acc improved from 0.98212 to 0.98723, saving model to vgg19_best.ckpt\n",
      "306/306 [==============================] - 144s 471ms/step - loss: 0.8091 - acc: 0.9825 - val_loss: 0.9771 - val_acc: 0.9872 - lr: 1.0000e-05\n",
      "Epoch 31/100\n",
      "306/306 [==============================] - ETA: 0s - loss: 0.7989 - acc: 0.9842\n",
      "Epoch 31: val_acc did not improve from 0.98723\n",
      "306/306 [==============================] - 143s 468ms/step - loss: 0.7989 - acc: 0.9842 - val_loss: 0.9395 - val_acc: 0.9872 - lr: 1.0000e-05\n",
      "Epoch 32/100\n",
      "306/306 [==============================] - ETA: 0s - loss: 0.7948 - acc: 0.9855\n",
      "Epoch 32: val_acc did not improve from 0.98723\n",
      "306/306 [==============================] - 143s 468ms/step - loss: 0.7948 - acc: 0.9855 - val_loss: 0.9511 - val_acc: 0.9860 - lr: 1.0000e-05\n",
      "Epoch 33/100\n",
      "306/306 [==============================] - ETA: 0s - loss: 0.7887 - acc: 0.9871\n",
      "Epoch 33: val_acc improved from 0.98723 to 0.98978, saving model to vgg19_best.ckpt\n",
      "306/306 [==============================] - 145s 475ms/step - loss: 0.7887 - acc: 0.9871 - val_loss: 0.9305 - val_acc: 0.9898 - lr: 1.0000e-05\n",
      "Epoch 34/100\n",
      "306/306 [==============================] - ETA: 0s - loss: 0.7741 - acc: 0.9898\n",
      "Epoch 34: val_acc did not improve from 0.98978\n",
      "306/306 [==============================] - 144s 471ms/step - loss: 0.7741 - acc: 0.9898 - val_loss: 0.9316 - val_acc: 0.9885 - lr: 1.0000e-05\n",
      "Epoch 35/100\n",
      "306/306 [==============================] - ETA: 0s - loss: 0.7718 - acc: 0.9911\n",
      "Epoch 35: val_acc improved from 0.98978 to 0.99361, saving model to vgg19_best.ckpt\n",
      "306/306 [==============================] - 159s 518ms/step - loss: 0.7718 - acc: 0.9911 - val_loss: 0.9311 - val_acc: 0.9936 - lr: 1.0000e-05\n",
      "Epoch 36/100\n",
      "306/306 [==============================] - ETA: 0s - loss: 0.7632 - acc: 0.9926\n",
      "Epoch 36: val_acc did not improve from 0.99361\n",
      "306/306 [==============================] - 160s 521ms/step - loss: 0.7632 - acc: 0.9926 - val_loss: 0.9262 - val_acc: 0.9923 - lr: 1.0000e-05\n",
      "Epoch 37/100\n",
      "306/306 [==============================] - ETA: 0s - loss: 0.7578 - acc: 0.9928\n",
      "Epoch 37: val_acc improved from 0.99361 to 0.99489, saving model to vgg19_best.ckpt\n",
      "306/306 [==============================] - 161s 525ms/step - loss: 0.7578 - acc: 0.9928 - val_loss: 0.9039 - val_acc: 0.9949 - lr: 1.0000e-05\n",
      "Epoch 38/100\n",
      "306/306 [==============================] - ETA: 0s - loss: 0.7579 - acc: 0.9935\n",
      "Epoch 38: val_acc did not improve from 0.99489\n",
      "306/306 [==============================] - 159s 521ms/step - loss: 0.7579 - acc: 0.9935 - val_loss: 0.9138 - val_acc: 0.9949 - lr: 1.0000e-05\n",
      "Epoch 39/100\n",
      "306/306 [==============================] - ETA: 0s - loss: 0.7471 - acc: 0.9941\n",
      "Epoch 39: val_acc did not improve from 0.99489\n",
      "306/306 [==============================] - 147s 479ms/step - loss: 0.7471 - acc: 0.9941 - val_loss: 1.0123 - val_acc: 0.9732 - lr: 1.0000e-05\n",
      "Epoch 40/100\n",
      "306/306 [==============================] - ETA: 0s - loss: 0.7443 - acc: 0.9950\n",
      "Epoch 40: val_acc did not improve from 0.99489\n",
      "306/306 [==============================] - 142s 463ms/step - loss: 0.7443 - acc: 0.9950 - val_loss: 0.8839 - val_acc: 0.9949 - lr: 1.0000e-05\n",
      "Epoch 41/100\n",
      "306/306 [==============================] - ETA: 0s - loss: 0.7378 - acc: 0.9968\n",
      "Epoch 41: val_acc improved from 0.99489 to 0.99617, saving model to vgg19_best.ckpt\n",
      "306/306 [==============================] - 144s 469ms/step - loss: 0.7378 - acc: 0.9968 - val_loss: 0.8932 - val_acc: 0.9962 - lr: 1.0000e-05\n",
      "Epoch 42/100\n",
      "306/306 [==============================] - ETA: 0s - loss: 0.7376 - acc: 0.9970\n",
      "Epoch 42: val_acc did not improve from 0.99617\n",
      "306/306 [==============================] - 143s 466ms/step - loss: 0.7376 - acc: 0.9970 - val_loss: 0.9200 - val_acc: 0.9949 - lr: 1.0000e-05\n",
      "Epoch 43/100\n",
      "306/306 [==============================] - ETA: 0s - loss: 0.7307 - acc: 0.9971\n",
      "Epoch 43: val_acc improved from 0.99617 to 1.00000, saving model to vgg19_best.ckpt\n",
      "306/306 [==============================] - 144s 470ms/step - loss: 0.7307 - acc: 0.9971 - val_loss: 0.8758 - val_acc: 1.0000 - lr: 1.0000e-05\n",
      "Epoch 44/100\n",
      "306/306 [==============================] - ETA: 0s - loss: 0.7251 - acc: 0.9980\n",
      "Epoch 44: val_acc did not improve from 1.00000\n",
      "306/306 [==============================] - 143s 467ms/step - loss: 0.7251 - acc: 0.9980 - val_loss: 0.8645 - val_acc: 1.0000 - lr: 1.0000e-05\n",
      "Epoch 45/100\n",
      "306/306 [==============================] - ETA: 0s - loss: 0.7149 - acc: 0.9975\n",
      "Epoch 45: val_acc did not improve from 1.00000\n",
      "306/306 [==============================] - 143s 468ms/step - loss: 0.7149 - acc: 0.9975 - val_loss: 0.8900 - val_acc: 1.0000 - lr: 1.0000e-05\n",
      "Epoch 46/100\n",
      "306/306 [==============================] - ETA: 0s - loss: 0.7118 - acc: 0.9982\n",
      "Epoch 46: val_acc did not improve from 1.00000\n",
      "306/306 [==============================] - 143s 469ms/step - loss: 0.7118 - acc: 0.9982 - val_loss: 0.8692 - val_acc: 1.0000 - lr: 1.0000e-05\n",
      "Epoch 47/100\n",
      "306/306 [==============================] - ETA: 0s - loss: 0.7165 - acc: 0.9975\n",
      "Epoch 47: val_acc did not improve from 1.00000\n",
      "306/306 [==============================] - 143s 468ms/step - loss: 0.7165 - acc: 0.9975 - val_loss: 0.8595 - val_acc: 1.0000 - lr: 1.0000e-05\n",
      "Epoch 48/100\n",
      "306/306 [==============================] - ETA: 0s - loss: 0.7128 - acc: 0.9981\n",
      "Epoch 48: val_acc did not improve from 1.00000\n",
      "306/306 [==============================] - 143s 468ms/step - loss: 0.7128 - acc: 0.9981 - val_loss: 0.8569 - val_acc: 1.0000 - lr: 1.0000e-05\n",
      "Epoch 49/100\n",
      "306/306 [==============================] - ETA: 0s - loss: 0.7073 - acc: 0.9984\n",
      "Epoch 49: val_acc did not improve from 1.00000\n",
      "306/306 [==============================] - 143s 467ms/step - loss: 0.7073 - acc: 0.9984 - val_loss: 0.8513 - val_acc: 1.0000 - lr: 1.0000e-05\n",
      "Epoch 50/100\n",
      "306/306 [==============================] - ETA: 0s - loss: 0.7071 - acc: 0.9973\n",
      "Epoch 50: val_acc did not improve from 1.00000\n",
      "306/306 [==============================] - 143s 467ms/step - loss: 0.7071 - acc: 0.9973 - val_loss: 0.8677 - val_acc: 1.0000 - lr: 1.0000e-05\n",
      "Epoch 51/100\n",
      "306/306 [==============================] - ETA: 0s - loss: 0.6993 - acc: 0.9989\n",
      "Epoch 51: val_acc did not improve from 1.00000\n",
      "306/306 [==============================] - 143s 468ms/step - loss: 0.6993 - acc: 0.9989 - val_loss: 0.8381 - val_acc: 1.0000 - lr: 1.0000e-05\n",
      "Epoch 52/100\n",
      "306/306 [==============================] - ETA: 0s - loss: 0.6959 - acc: 0.9989\n",
      "Epoch 52: val_acc did not improve from 1.00000\n",
      "306/306 [==============================] - 143s 468ms/step - loss: 0.6959 - acc: 0.9989 - val_loss: 0.8684 - val_acc: 1.0000 - lr: 1.0000e-05\n",
      "Epoch 53/100\n",
      "306/306 [==============================] - ETA: 0s - loss: 0.7007 - acc: 0.9991\n",
      "Epoch 53: val_acc did not improve from 1.00000\n",
      "306/306 [==============================] - 144s 471ms/step - loss: 0.7007 - acc: 0.9991 - val_loss: 0.8246 - val_acc: 1.0000 - lr: 1.0000e-05\n",
      "Epoch 54/100\n",
      "306/306 [==============================] - ETA: 0s - loss: 0.6944 - acc: 0.9987\n",
      "Epoch 54: val_acc did not improve from 1.00000\n",
      "306/306 [==============================] - 144s 470ms/step - loss: 0.6944 - acc: 0.9987 - val_loss: 0.8367 - val_acc: 1.0000 - lr: 1.0000e-05\n",
      "Epoch 55/100\n",
      "306/306 [==============================] - ETA: 0s - loss: 0.6920 - acc: 0.9989\n",
      "Epoch 55: val_acc did not improve from 1.00000\n",
      "306/306 [==============================] - 143s 468ms/step - loss: 0.6920 - acc: 0.9989 - val_loss: 0.8196 - val_acc: 1.0000 - lr: 1.0000e-05\n",
      "Epoch 56/100\n",
      "306/306 [==============================] - ETA: 0s - loss: 0.6927 - acc: 0.9990\n",
      "Epoch 56: val_acc did not improve from 1.00000\n",
      "306/306 [==============================] - 143s 467ms/step - loss: 0.6927 - acc: 0.9990 - val_loss: 0.8584 - val_acc: 1.0000 - lr: 1.0000e-05\n",
      "Epoch 57/100\n",
      "306/306 [==============================] - ETA: 0s - loss: 0.6948 - acc: 0.9982\n",
      "Epoch 57: val_acc did not improve from 1.00000\n",
      "306/306 [==============================] - 143s 469ms/step - loss: 0.6948 - acc: 0.9982 - val_loss: 0.8289 - val_acc: 1.0000 - lr: 1.0000e-05\n",
      "Epoch 58/100\n",
      "306/306 [==============================] - ETA: 0s - loss: 0.6889 - acc: 0.9993\n",
      "Epoch 58: val_acc did not improve from 1.00000\n",
      "306/306 [==============================] - 143s 468ms/step - loss: 0.6889 - acc: 0.9993 - val_loss: 0.8212 - val_acc: 1.0000 - lr: 1.0000e-05\n",
      "Epoch 59/100\n",
      "306/306 [==============================] - ETA: 0s - loss: 0.6789 - acc: 0.9992\n",
      "Epoch 59: val_acc did not improve from 1.00000\n",
      "306/306 [==============================] - 143s 467ms/step - loss: 0.6789 - acc: 0.9992 - val_loss: 0.8199 - val_acc: 1.0000 - lr: 1.0000e-05\n",
      "Epoch 60/100\n",
      "306/306 [==============================] - ETA: 0s - loss: 0.6857 - acc: 0.9997\n",
      "Epoch 60: val_acc did not improve from 1.00000\n",
      "306/306 [==============================] - 143s 468ms/step - loss: 0.6857 - acc: 0.9997 - val_loss: 0.8071 - val_acc: 1.0000 - lr: 1.0000e-05\n",
      "Epoch 61/100\n",
      "306/306 [==============================] - ETA: 0s - loss: 0.6812 - acc: 0.9992\n",
      "Epoch 61: val_acc did not improve from 1.00000\n",
      "306/306 [==============================] - 143s 468ms/step - loss: 0.6812 - acc: 0.9992 - val_loss: 0.8200 - val_acc: 1.0000 - lr: 1.0000e-05\n",
      "Epoch 62/100\n",
      "306/306 [==============================] - ETA: 0s - loss: 0.6815 - acc: 0.9994\n",
      "Epoch 62: val_acc did not improve from 1.00000\n",
      "306/306 [==============================] - 143s 468ms/step - loss: 0.6815 - acc: 0.9994 - val_loss: 0.8124 - val_acc: 1.0000 - lr: 1.0000e-05\n",
      "Epoch 63/100\n",
      "306/306 [==============================] - ETA: 0s - loss: 0.6820 - acc: 0.9997\n",
      "Epoch 63: val_acc did not improve from 1.00000\n",
      "306/306 [==============================] - 144s 472ms/step - loss: 0.6820 - acc: 0.9997 - val_loss: 0.8091 - val_acc: 1.0000 - lr: 1.0000e-05\n",
      "Epoch 64/100\n",
      "306/306 [==============================] - ETA: 0s - loss: 0.6754 - acc: 0.9996\n",
      "Epoch 64: val_acc did not improve from 1.00000\n",
      "306/306 [==============================] - 143s 468ms/step - loss: 0.6754 - acc: 0.9996 - val_loss: 0.8110 - val_acc: 1.0000 - lr: 1.0000e-05\n",
      "Epoch 65/100\n",
      "306/306 [==============================] - ETA: 0s - loss: 0.6725 - acc: 0.9998\n",
      "Epoch 65: val_acc did not improve from 1.00000\n",
      "\n",
      "Epoch 65: ReduceLROnPlateau reducing learning rate to 9.999999747378752e-07.\n",
      "306/306 [==============================] - 144s 470ms/step - loss: 0.6725 - acc: 0.9998 - val_loss: 0.8209 - val_acc: 1.0000 - lr: 1.0000e-05\n"
     ]
    },
    {
     "data": {
      "text/plain": [
       "<keras.callbacks.History at 0x237f1460f70>"
      ]
     },
     "execution_count": 36,
     "metadata": {},
     "output_type": "execute_result"
    }
   ],
   "source": [
    "# train the model\n",
    "vgg19_model.fit(\n",
    "        train_generator,\n",
    "        epochs=100,\n",
    "        validation_data=valid_generator,\n",
    "        callbacks=[my_callbacks],\n",
    "        class_weight=class_weights)"
   ]
  },
  {
   "cell_type": "code",
   "execution_count": 37,
   "id": "75a9b6b4",
   "metadata": {},
   "outputs": [
    {
     "name": "stdout",
     "output_type": "stream",
     "text": [
      "Found 783 validated image filenames.\n"
     ]
    }
   ],
   "source": [
    "target_shape = 224\n",
    "BATCH_SIZE = 1\n",
    "\n",
    "# test generator\n",
    "compi_gen = valid_aug.flow_from_dataframe(dataframe= X_test,\n",
    "                            x_col= \"filename\",\n",
    "                            class_mode=None,\n",
    "                            target_size= (target_shape, target_shape),\n",
    "                            shuffle= False,\n",
    "                            batch_size= BATCH_SIZE\n",
    "                            )"
   ]
  },
  {
   "cell_type": "code",
   "execution_count": 38,
   "id": "6e2743ab",
   "metadata": {},
   "outputs": [
    {
     "name": "stdout",
     "output_type": "stream",
     "text": [
      "783/783 [==============================] - 10s 11ms/step\n"
     ]
    }
   ],
   "source": [
    "predicition_compi = vgg19_model.predict(compi_gen, steps= compi_gen.n/ BATCH_SIZE, verbose= 1)"
   ]
  },
  {
   "cell_type": "code",
   "execution_count": 39,
   "id": "dff26aca",
   "metadata": {},
   "outputs": [
    {
     "data": {
      "text/plain": [
       "<sklearn.metrics._plot.confusion_matrix.ConfusionMatrixDisplay at 0x2384e18cf10>"
      ]
     },
     "execution_count": 39,
     "metadata": {},
     "output_type": "execute_result"
    },
    {
     "data": {
      "image/png": "[encoded data removed]",
      "text/plain": [
       "<Figure size 432x288 with 2 Axes>"
      ]
     },
     "metadata": {
      "needs_background": "light"
     },
     "output_type": "display_data"
    }
   ],
   "source": [
    "from sklearn.metrics import confusion_matrix, ConfusionMatrixDisplay\n",
    "class_prediction_compi =  np.argmax(predicition_compi, axis= 1)\n",
    "cm = confusion_matrix(X_test.label, class_prediction_compi, labels=[0, 1, 2, 3, 4])\n",
    "disp = ConfusionMatrixDisplay(confusion_matrix=cm,\n",
    "                              display_labels=[0, 1, 2, 3, 4])\n",
    "disp.plot()"
   ]
  },
  {
   "cell_type": "code",
   "execution_count": 40,
   "id": "e0653da1",
   "metadata": {},
   "outputs": [
    {
     "name": "stdout",
     "output_type": "stream",
     "text": [
      "Found 1958 validated image filenames.\n"
     ]
    }
   ],
   "source": [
    "test = pd.read_csv(compi_root_path + \"Test.csv\")\n",
    "\n",
    "# create test generator\n",
    "test_generator = valid_aug.flow_from_dataframe(\n",
    "dataframe= test,\n",
    "directory= compi_root_path + \"test\",\n",
    "x_col= \"filename\",\n",
    "y_col= None,\n",
    "batch_size= 1,\n",
    "seed= 42,\n",
    "shuffle= False,\n",
    "class_mode= None,\n",
    "target_size= (224,224))\n",
    "\n",
    "# number of steps to consider 1 epoch\n",
    "STEP_SIZE_TEST=test_generator.n//test_generator.batch_size"
   ]
  },
  {
   "cell_type": "code",
   "execution_count": 41,
   "id": "cbbbb5b7",
   "metadata": {},
   "outputs": [
    {
     "name": "stdout",
     "output_type": "stream",
     "text": [
      "1958/1958 [==============================] - 27s 14ms/step\n"
     ]
    },
    {
     "data": {
      "text/plain": [
       "0    753\n",
       "2    519\n",
       "1    366\n",
       "3    261\n",
       "4     59\n",
       "Name: label, dtype: int64"
      ]
     },
     "execution_count": 41,
     "metadata": {},
     "output_type": "execute_result"
    }
   ],
   "source": [
    "# make prediction and create dataframe out of it\n",
    "pred = vgg19_model.predict(test_generator,steps=STEP_SIZE_TEST,verbose=1)\n",
    "df_submit = pd.DataFrame({\"label\":np.argmax(pred, axis= 1)})\n",
    "df_submit[\"label\"].value_counts()"
   ]
  },
  {
   "cell_type": "code",
   "execution_count": 42,
   "id": "625f3e48",
   "metadata": {},
   "outputs": [],
   "source": [
    "vgg19_model.save_weights(\"knee_xray_vgg19_GPA.h5\")\n",
    "df_submit.to_csv(\"submission.csv\",index=False)"
   ]
  },
  {
   "cell_type": "code",
   "execution_count": 45,
   "id": "c66c700c",
   "metadata": {},
   "outputs": [
    {
     "name": "stdout",
     "output_type": "stream",
     "text": [
      "Model: \"sequential_5\"\n",
      "_________________________________________________________________\n",
      " Layer (type)                Output Shape              Param #   \n",
      "=================================================================\n",
      " sequential_3 (Sequential)   (None, 86528)             93248     \n",
      "                                                                 \n",
      " sequential_4 (Sequential)   (None, 64)                49408     \n",
      "                                                                 \n",
      " dense_1 (Dense)             (None, 5)                 325       \n",
      "                                                                 \n",
      "=================================================================\n",
      "Total params: 142,981\n",
      "Trainable params: 142,981\n",
      "Non-trainable params: 0\n",
      "_________________________________________________________________\n"
     ]
    }
   ],
   "source": [
    "import tensorflow as tf\n",
    "from tensorflow.keras import layers, models\n",
    "\n",
    "# Define CNN feature extractor\n",
    "cnn_model = models.Sequential([\n",
    "    layers.Conv2D(32, (3, 3), activation='relu', input_shape=(224, 224, 3)),\n",
    "    layers.MaxPooling2D((2, 2)),\n",
    "    layers.Conv2D(64, (3, 3), activation='relu'),\n",
    "    layers.MaxPooling2D((2, 2)),\n",
    "    layers.Conv2D(128, (3, 3), activation='relu'),\n",
    "    layers.MaxPooling2D((2, 2)),\n",
    "    layers.Flatten(),\n",
    "])\n",
    "\n",
    "# Define RNN layer\n",
    "rnn_model = models.Sequential([\n",
    "    layers.Reshape((-1, 128)),\n",
    "    layers.LSTM(64,\n",
    "return_sequences=False)\n",
    "])\n",
    "\n",
    "# Combine CNN and RNN\n",
    "combined_model = models.Sequential([\n",
    "    cnn_model,\n",
    "    rnn_model,\n",
    "    layers.Dense(5, activation='softmax')\n",
    "])\n",
    "\n",
    "# Compile the model\n",
    "combined_model.compile(optimizer='adam', loss='sparse_categorical_crossentropy', metrics=['accuracy'])\n",
    "\n",
    "# Print model summary\n",
    "combined_model.summary()"
   ]
  },
  {
   "cell_type": "code",
   "execution_count": 46,
   "id": "763fb417",
   "metadata": {},
   "outputs": [],
   "source": [
    "combined_model.compile(optimizer = tf.keras.optimizers.Adam(learning_rate=0.00001,decay=0.0001),\n",
    "                 metrics=[\"acc\"],\n",
    "                 loss= tf.keras.losses.sparse_categorical_crossentropy)\n",
    "\n",
    "# callbacks and checkpoints\n",
    "checkpoint_path = \"cnnrnn_best.ckpt\"\n",
    "checkpoint_dir = os.path.dirname(checkpoint_path)\n",
    "my_callbacks = [\n",
    "               ModelCheckpoint(checkpoint_path,\n",
    "                               monitor = 'val_acc',\n",
    "                               verbose = 1,\n",
    "                               save_weights_only=True,\n",
    "                               save_best_only = True,\n",
    "                               mode=\"max\"),\n",
    "              EarlyStopping(monitor='val_loss',\n",
    "                            patience=5,\n",
    "                            verbose=0),\n",
    "              ReduceLROnPlateau(monitor='val_loss',\n",
    "                                patience=5,\n",
    "                                verbose=1)]"
   ]
  },
  {
   "cell_type": "code",
   "execution_count": 49,
   "id": "66b04cd6",
   "metadata": {},
   "outputs": [],
   "source": [
    "from sklearn.utils import class_weight\n",
    "class_weights = class_weight.compute_class_weight('balanced',\n",
    "                                                 classes= np.unique(df_train_kaggle.label.values),\n",
    "                                                 y= df_train_kaggle.label.values)\n",
    "class_weights = dict(enumerate(class_weights))"
   ]
  },
  {
   "cell_type": "code",
   "execution_count": 52,
   "id": "0f92ab86",
   "metadata": {},
   "outputs": [
    {
     "name": "stdout",
     "output_type": "stream",
     "text": [
      "Epoch 1/10\n",
      "306/306 [==============================] - ETA: 0s - loss: 1.6102 - acc: 0.1304\n",
      "Epoch 1: val_acc improved from -inf to 0.12966, saving model to cnnrnn_best.ckpt\n",
      "306/306 [==============================] - 134s 436ms/step - loss: 1.6102 - acc: 0.1304 - val_loss: 1.6143 - val_acc: 0.1297 - lr: 1.0000e-05\n",
      "Epoch 2/10\n",
      "306/306 [==============================] - ETA: 0s - loss: 1.6096 - acc: 0.1248\n",
      "Epoch 2: val_acc did not improve from 0.12966\n",
      "306/306 [==============================] - 52s 169ms/step - loss: 1.6096 - acc: 0.1248 - val_loss: 1.6130 - val_acc: 0.1266 - lr: 1.0000e-05\n",
      "Epoch 3/10\n",
      "306/306 [==============================] - ETA: 0s - loss: 1.6095 - acc: 0.1272\n",
      "Epoch 3: val_acc did not improve from 0.12966\n",
      "306/306 [==============================] - 50s 165ms/step - loss: 1.6095 - acc: 0.1272 - val_loss: 1.6115 - val_acc: 0.1239 - lr: 1.0000e-05\n",
      "Epoch 4/10\n",
      "306/306 [==============================] - ETA: 0s - loss: 1.6094 - acc: 0.1180\n",
      "Epoch 4: val_acc did not improve from 0.12966\n",
      "306/306 [==============================] - 50s 163ms/step - loss: 1.6094 - acc: 0.1180 - val_loss: 1.6114 - val_acc: 0.1191 - lr: 1.0000e-05\n",
      "Epoch 5/10\n",
      "306/306 [==============================] - ETA: 0s - loss: 1.6095 - acc: 0.1084\n",
      "Epoch 5: val_acc did not improve from 0.12966\n",
      "306/306 [==============================] - 51s 166ms/step - loss: 1.6095 - acc: 0.1084 - val_loss: 1.6109 - val_acc: 0.1194 - lr: 1.0000e-05\n",
      "Epoch 6/10\n",
      "306/306 [==============================] - ETA: 0s - loss: 1.6094 - acc: 0.1179\n",
      "Epoch 6: val_acc did not improve from 0.12966\n",
      "306/306 [==============================] - 52s 168ms/step - loss: 1.6094 - acc: 0.1179 - val_loss: 1.6089 - val_acc: 0.1234 - lr: 1.0000e-05\n",
      "Epoch 7/10\n",
      "306/306 [==============================] - ETA: 0s - loss: 1.6093 - acc: 0.1038\n",
      "Epoch 7: val_acc did not improve from 0.12966\n",
      "306/306 [==============================] - 51s 168ms/step - loss: 1.6093 - acc: 0.1038 - val_loss: 1.6086 - val_acc: 0.1231 - lr: 1.0000e-05\n",
      "Epoch 8/10\n",
      "306/306 [==============================] - ETA: 0s - loss: 1.6093 - acc: 0.1148\n",
      "Epoch 8: val_acc did not improve from 0.12966\n",
      "306/306 [==============================] - 51s 167ms/step - loss: 1.6093 - acc: 0.1148 - val_loss: 1.6081 - val_acc: 0.1229 - lr: 1.0000e-05\n",
      "Epoch 9/10\n",
      "306/306 [==============================] - ETA: 0s - loss: 1.6093 - acc: 0.1307\n",
      "Epoch 9: val_acc did not improve from 0.12966\n",
      "306/306 [==============================] - 51s 166ms/step - loss: 1.6093 - acc: 0.1307 - val_loss: 1.6092 - val_acc: 0.1145 - lr: 1.0000e-05\n",
      "Epoch 10/10\n",
      "306/306 [==============================] - ETA: 0s - loss: 1.6093 - acc: 0.1541\n",
      "Epoch 10: val_acc did not improve from 0.12966\n",
      "306/306 [==============================] - 50s 165ms/step - loss: 1.6093 - acc: 0.1541 - val_loss: 1.6108 - val_acc: 0.1087 - lr: 1.0000e-05\n"
     ]
    },
    {
     "data": {
      "text/plain": [
       "<keras.callbacks.History at 0x2385f29ec70>"
      ]
     },
     "execution_count": 52,
     "metadata": {},
     "output_type": "execute_result"
    }
   ],
   "source": [
    "combined_model.fit(\n",
    "        train_generator,\n",
    "        epochs=10,\n",
    "        validation_data=valid_generator,\n",
    "        callbacks=[my_callbacks],\n",
    "        class_weight=class_weights)"
   ]
  }
 ],
 "metadata": {
  "kernelspec": {
   "display_name": "Python 3",
   "language": "python",
   "name": "python3"
  },
  "language_info": {
   "codemirror_mode": {
    "name": "ipython",
    "version": 3
   },
   "file_extension": ".py",
   "mimetype": "text/x-python",
   "name": "python",
   "nbconvert_exporter": "python",
   "pygments_lexer": "ipython3",
   "version": "3.9.7"
  },
  "papermill": {
   "default_parameters": {},
   "duration": 6499.620651,
   "end_time": "2021-05-30T20:27:40.898205",
   "environment_variables": {},
   "exception": null,
   "input_path": "__notebook__.ipynb",
   "output_path": "__notebook__.ipynb",
   "parameters": {},
   "start_time": "2021-05-30T18:39:21.277554",
   "version": "2.3.3"
  }
 },
 "nbformat": 4,
 "nbformat_minor": 5
}
